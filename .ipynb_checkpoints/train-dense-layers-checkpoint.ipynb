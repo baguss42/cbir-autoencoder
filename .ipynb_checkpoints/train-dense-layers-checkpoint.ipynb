{
 "cells": [
  {
   "cell_type": "code",
   "execution_count": 1,
   "metadata": {},
   "outputs": [
    {
     "name": "stderr",
     "output_type": "stream",
     "text": [
      "Loaded pre-trained convolution layers!\n"
     ]
    }
   ],
   "source": [
    "from keras.models import load_model\n",
    "\n",
    "feature_extractor = load_model('extractor.h5')\n",
    "print \"Loaded pre-trained convolution layers!\""
   ]
  },
  {
   "cell_type": "code",
   "execution_count": null,
   "metadata": {
    "collapsed": true
   },
   "outputs": [],
   "source": [
    "from keras.datasets import cifar10\n",
    "from keras import optimizers\n",
    "import numpy as np\n",
    "from sklearn import preprocessing\n",
    "\n",
    "\n",
    "(x_train, y_train), (x_test, y_test) = cifar10.load_data()\n",
    "interested = [0, 1, 8, 9]\n",
    "\n",
    "scrap = []\n",
    "for idx, im in enumerate(x_train):\n",
    "    if (y_train[idx][0] not in interested):\n",
    "        scrap.append(idx)\n",
    "        \n",
    "x_train = np.delete(x_train, scrap, axis=0)\n",
    "y_train = np.delete(y_train, scrap, axis=0)\n",
    "\n",
    "enc = preprocessing.OneHotEncoder()\n",
    "enc.fit(y_train)\n",
    "y_train = enc.transform(y_train).toarray()\n",
    "\n",
    "scrap = []\n",
    "for idx, im in enumerate(x_test):\n",
    "    if (y_test[idx][0] not in interested):\n",
    "        scrap.append(idx)\n",
    "x_test = np.delete(x_test, scrap, axis=0)\n",
    "y_test = np.delete(y_test, scrap, axis=0)\n",
    "y_test = enc.transform(y_test).toarray()\n",
    "\n",
    "x_train = (x_train.astype('float32')) / 255.0\n",
    "x_test = (x_test.astype('float32')) / 255.0\n",
    "\n",
    "print x_train.shape\n",
    "print x_test.shape"
   ]
  },
  {
   "cell_type": "code",
   "execution_count": null,
   "metadata": {},
   "outputs": [
    {
     "name": "stdout",
     "output_type": "stream",
     "text": [
      "(20000, 2048)\n",
      "(4000, 2048)\n"
     ]
    }
   ],
   "source": [
    "features = feature_extractor.predict(x_train)\n",
    "features_test = extractor.predict(x_test)\n",
    "\n",
    "print features.shape\n",
    "print features_test.shape"
   ]
  },
  {
   "cell_type": "code",
   "execution_count": 2,
   "metadata": {
    "collapsed": true
   },
   "outputs": [],
   "source": [
    "from keras.layers import Input, Dense\n",
    "from keras.models import Model, load_model\n",
    "from keras.callbacks import TensorBoard\n",
    "\n",
    "class DeepAutoencoder:\n",
    "    def __init__(self):\n",
    "        self.encoder_model = None\n",
    "        self.model = None\n",
    "        return\n",
    "    \n",
    "    def build(self, input_dim, encoding_dim, opt):\n",
    "        input_layer = Input(shape=(input_dim,))\n",
    "        \n",
    "        hidden_one = Dense(encoding_dim*4, activation='relu') (input_layer)\n",
    "        hidden_two = Dense(encoding_dim*2, activation='relu') (hidden_one)\n",
    "        encoder_output = Dense(encoding_dim, activation='relu') (hidden_two)\n",
    "        self.encoder_model = Model(input_layer, encoder_output)\n",
    "        \n",
    "        hidden_three = Dense(encoding_dim*2, activation='relu') (encoder_output)\n",
    "        hidden_four = Dense(encoding_dim*4, activation='relu') (hidden_three)\n",
    "        decoder_output = Dense(input_dim, activation='sigmoid') (hidden_four)\n",
    "        self.model = Model(input_layer, decoder_output)\n",
    "        \n",
    "        self.model.compile(optimizer=opt, loss='binary_crossentropy', )\n",
    "        return\n",
    "    \n",
    "    def load(self, model_file, encoder_model_file):\n",
    "        self.encoder_model = load_model(encoder_model_file)\n",
    "        self.model = load_model(model_file)\n",
    "        return\n",
    "    \n",
    "    def train(self, train_input, train_output,\n",
    "             val_input, val_output,\n",
    "             epochs=50,\n",
    "             batch_size=256,\n",
    "             shuffle=True):\n",
    "        tensorboard = TensorBoard(log_dir='./tf_logs_two', histogram_freq=0, write_graph=True, write_images=False)\n",
    "        self.model.fit(train_input, train_output,\n",
    "                      epochs=epochs, batch_size=batch_size,\n",
    "                      shuffle=shuffle,\n",
    "                      validation_data=(val_input, val_output),\n",
    "                      callbacks=[tensorboard])\n",
    "        return\n",
    "    \n",
    "    def encoder_predict(self, test_input):\n",
    "        return self.encoder_model.predict(test_input)\n",
    "    \n",
    "    def predict(self, test_input):\n",
    "        return self.model.predict(test_input)\n",
    "    \n",
    "    def save(self, model_file, encoder_model_file):\n",
    "        self.model.save(model_file)\n",
    "        self.encoder_model.save(encoder_model_file)\n",
    "        return"
   ]
  },
  {
   "cell_type": "code",
   "execution_count": null,
   "metadata": {
    "collapsed": true
   },
   "outputs": [],
   "source": [
    "from keras.optimizers import adam\n",
    "\n",
    "pretrain_features_size = 2048\n",
    "target_dim_size = 128\n",
    "autoencoder = DeepAutoencoder()\n",
    "opt = adam(lr=0.0001)\n",
    "autoencoder.build(pretrain_features_size, target_dim_size, opt)"
   ]
  },
  {
   "cell_type": "code",
   "execution_count": null,
   "metadata": {},
   "outputs": [
    {
     "name": "stdout",
     "output_type": "stream",
     "text": [
      "Train on 20000 samples, validate on 4000 samples\n",
      "Epoch 1/50\n",
      "20000/20000 [==============================] - 2s - loss: 0.4661 - val_loss: 0.0390\n",
      "Epoch 2/50\n",
      "20000/20000 [==============================] - 2s - loss: 0.0372 - val_loss: 0.0348\n",
      "Epoch 3/50\n",
      "20000/20000 [==============================] - 2s - loss: 0.0336 - val_loss: 0.0327\n",
      "Epoch 4/50\n",
      "20000/20000 [==============================] - 2s - loss: 0.0320 - val_loss: 0.0313\n",
      "Epoch 5/50\n",
      "20000/20000 [==============================] - 2s - loss: 0.0309 - val_loss: 0.0303\n",
      "Epoch 6/50\n",
      "20000/20000 [==============================] - 2s - loss: 0.0300 - val_loss: 0.0294\n",
      "Epoch 7/50\n",
      "20000/20000 [==============================] - 2s - loss: 0.0293 - val_loss: 0.0287\n",
      "Epoch 8/50\n",
      "20000/20000 [==============================] - 2s - loss: 0.0287 - val_loss: 0.0281\n",
      "Epoch 9/50\n",
      "20000/20000 [==============================] - 2s - loss: 0.0282 - val_loss: 0.0277\n",
      "Epoch 10/50\n",
      "20000/20000 [==============================] - 2s - loss: 0.0279 - val_loss: 0.0275\n",
      "Epoch 11/50\n",
      "20000/20000 [==============================] - 2s - loss: 0.0277 - val_loss: 0.0273\n",
      "Epoch 12/50\n",
      "20000/20000 [==============================] - 2s - loss: 0.0276 - val_loss: 0.0272\n",
      "Epoch 13/50\n",
      "20000/20000 [==============================] - 2s - loss: 0.0275 - val_loss: 0.0272\n",
      "Epoch 14/50\n",
      "20000/20000 [==============================] - 2s - loss: 0.0274 - val_loss: 0.0271\n",
      "Epoch 15/50\n",
      "20000/20000 [==============================] - 2s - loss: 0.0274 - val_loss: 0.0271\n",
      "Epoch 16/50\n",
      "20000/20000 [==============================] - 2s - loss: 0.0274 - val_loss: 0.0271\n",
      "Epoch 17/50\n",
      "20000/20000 [==============================] - 2s - loss: 0.0274 - val_loss: 0.0271\n",
      "Epoch 18/50\n",
      "20000/20000 [==============================] - 3s - loss: 0.0274 - val_loss: 0.0271\n",
      "Epoch 19/50\n",
      "20000/20000 [==============================] - 2s - loss: 0.0274 - val_loss: 0.0271\n",
      "Epoch 20/50\n",
      "20000/20000 [==============================] - 2s - loss: 0.0273 - val_loss: 0.0270\n",
      "Epoch 21/50\n",
      "20000/20000 [==============================] - 2s - loss: 0.0270 - val_loss: 0.0265\n",
      "Epoch 22/50\n",
      "20000/20000 [==============================] - 2s - loss: 0.0265 - val_loss: 0.0261\n",
      "Epoch 23/50\n",
      "20000/20000 [==============================] - 2s - loss: 0.0263 - val_loss: 0.0259\n",
      "Epoch 24/50\n",
      "20000/20000 [==============================] - 2s - loss: 0.0261 - val_loss: 0.0258\n",
      "Epoch 25/50\n",
      "20000/20000 [==============================] - 2s - loss: 0.0259 - val_loss: 0.0257\n",
      "Epoch 26/50\n",
      "20000/20000 [==============================] - 2s - loss: 0.0258 - val_loss: 0.0256\n",
      "Epoch 27/50\n",
      "20000/20000 [==============================] - 3s - loss: 0.0257 - val_loss: 0.0255\n",
      "Epoch 28/50\n",
      "20000/20000 [==============================] - 2s - loss: 0.0256 - val_loss: 0.0254\n",
      "Epoch 29/50\n",
      "20000/20000 [==============================] - 2s - loss: 0.0256 - val_loss: 0.0254\n",
      "Epoch 30/50\n",
      "20000/20000 [==============================] - 2s - loss: 0.0255 - val_loss: 0.0254\n",
      "Epoch 31/50\n",
      "20000/20000 [==============================] - 2s - loss: 0.0255 - val_loss: 0.0253\n",
      "Epoch 32/50\n",
      "20000/20000 [==============================] - 2s - loss: 0.0255 - val_loss: 0.0253\n",
      "Epoch 33/50\n",
      "20000/20000 [==============================] - 2s - loss: 0.0255 - val_loss: 0.0253\n",
      "Epoch 34/50\n",
      "20000/20000 [==============================] - 3s - loss: 0.0255 - val_loss: 0.0253\n",
      "Epoch 35/50\n",
      "20000/20000 [==============================] - 2s - loss: 0.0255 - val_loss: 0.0253\n",
      "Epoch 36/50\n",
      "20000/20000 [==============================] - 2s - loss: 0.0254 - val_loss: 0.0252\n",
      "Epoch 37/50\n",
      "20000/20000 [==============================] - 3s - loss: 0.0254 - val_loss: 0.0252\n",
      "Epoch 38/50\n",
      "20000/20000 [==============================] - 3s - loss: 0.0254 - val_loss: 0.0252\n",
      "Epoch 39/50\n",
      "20000/20000 [==============================] - 2s - loss: 0.0254 - val_loss: 0.0252\n",
      "Epoch 40/50\n",
      "20000/20000 [==============================] - 2s - loss: 0.0254 - val_loss: 0.0252\n",
      "Epoch 41/50\n",
      "20000/20000 [==============================] - 2s - loss: 0.0254 - val_loss: 0.0252\n",
      "Epoch 42/50\n",
      "20000/20000 [==============================] - 2s - loss: 0.0253 - val_loss: 0.0251\n",
      "Epoch 43/50\n",
      "20000/20000 [==============================] - 2s - loss: 0.0253 - val_loss: 0.0251\n",
      "Epoch 44/50\n",
      "20000/20000 [==============================] - 2s - loss: 0.0253 - val_loss: 0.0251\n",
      "Epoch 45/50\n",
      "20000/20000 [==============================] - 2s - loss: 0.0253 - val_loss: 0.0251\n",
      "Epoch 46/50\n",
      "20000/20000 [==============================] - 3s - loss: 0.0253 - val_loss: 0.0251ss: 0.02\n",
      "Epoch 47/50\n",
      "20000/20000 [==============================] - 2s - loss: 0.0253 - val_loss: 0.0250\n",
      "Epoch 48/50\n",
      "20000/20000 [==============================] - 2s - loss: 0.0253 - val_loss: 0.0250\n",
      "Epoch 49/50\n",
      "20000/20000 [==============================] - 2s - loss: 0.0252 - val_loss: 0.0250\n",
      "Epoch 50/50\n",
      "20000/20000 [==============================] - 2s - loss: 0.0252 - val_loss: 0.0250\n"
     ]
    }
   ],
   "source": [
    "autoencoder.train(features, features, features_test, features_test,\n",
    "                 epochs=50,\n",
    "                 batch_size=256,\n",
    "                 shuffle=True)"
   ]
  },
  {
   "cell_type": "code",
   "execution_count": null,
   "metadata": {},
   "outputs": [
    {
     "name": "stdout",
     "output_type": "stream",
     "text": [
      "Saved!\n"
     ]
    }
   ],
   "source": [
    "autoencoder.save('ae-complete.h5', 'ae-encoder.h5')\n",
    "print \"Saved!\""
   ]
  }
 ],
 "metadata": {
  "kernelspec": {
   "display_name": "Python 2",
   "language": "python",
   "name": "python2"
  },
  "language_info": {
   "codemirror_mode": {
    "name": "ipython",
    "version": 2
   },
   "file_extension": ".py",
   "mimetype": "text/x-python",
   "name": "python",
   "nbconvert_exporter": "python",
   "pygments_lexer": "ipython2",
   "version": "2.7.13"
  }
 },
 "nbformat": 4,
 "nbformat_minor": 2
}
