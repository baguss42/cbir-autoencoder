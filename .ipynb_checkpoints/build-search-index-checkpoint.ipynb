{
 "cells": [
  {
   "cell_type": "code",
   "execution_count": 1,
   "metadata": {},
   "outputs": [
    {
     "name": "stderr",
     "output_type": "stream",
     "text": [
      "Using TensorFlow backend.\n"
     ]
    },
    {
     "name": "stdout",
     "output_type": "stream",
     "text": [
      "(20000, 32, 32, 3)\n",
      "(4000, 32, 32, 3)\n"
     ]
    }
   ],
   "source": [
    "from keras.datasets import cifar10\n",
    "from keras import optimizers\n",
    "import numpy as np\n",
    "from sklearn import preprocessing\n",
    "\n",
    "\n",
    "(x_train, y_train), (x_test, y_test) = cifar10.load_data()\n",
    "interested = [0, 1, 8, 9]\n",
    "\n",
    "scrap = []\n",
    "for idx, im in enumerate(x_train):\n",
    "    if (y_train[idx][0] not in interested):\n",
    "        scrap.append(idx)\n",
    "        \n",
    "x_train = np.delete(x_train, scrap, axis=0)\n",
    "y_train = np.delete(y_train, scrap, axis=0)\n",
    "\n",
    "enc = preprocessing.OneHotEncoder()\n",
    "enc.fit(y_train)\n",
    "y_train = enc.transform(y_train).toarray()\n",
    "\n",
    "scrap = []\n",
    "for idx, im in enumerate(x_test):\n",
    "    if (y_test[idx][0] not in interested):\n",
    "        scrap.append(idx)\n",
    "x_test = np.delete(x_test, scrap, axis=0)\n",
    "y_test = np.delete(y_test, scrap, axis=0)\n",
    "y_test = enc.transform(y_test).toarray()\n",
    "\n",
    "x_train = (x_train.astype('float32')) / 255.0\n",
    "x_test = (x_test.astype('float32')) / 255.0\n",
    "\n",
    "print x_train.shape\n",
    "print x_test.shape"
   ]
  },
  {
   "cell_type": "code",
   "execution_count": 3,
   "metadata": {},
   "outputs": [
    {
     "name": "stdout",
     "output_type": "stream",
     "text": [
      "Models loaded!\n"
     ]
    }
   ],
   "source": [
    "from keras.models import load_model\n",
    "\n",
    "feature_extractor = load_model('extractor.h5')\n",
    "feature_encoder = load_model('ae-encoder.h5')\n",
    "print \"Models loaded!\""
   ]
  },
  {
   "cell_type": "code",
   "execution_count": 4,
   "metadata": {},
   "outputs": [
    {
     "name": "stdout",
     "output_type": "stream",
     "text": [
      "(20000, 2048)\n"
     ]
    }
   ],
   "source": [
    "features = feature_extractor.predict(x_train)\n",
    "print features.shape"
   ]
  },
  {
   "cell_type": "code",
   "execution_count": 5,
   "metadata": {},
   "outputs": [
    {
     "name": "stdout",
     "output_type": "stream",
     "text": [
      "(20000, 128)\n"
     ]
    }
   ],
   "source": [
    "vectors = feature_encoder.predict(features)\n",
    "print vectors.shape"
   ]
  },
  {
   "cell_type": "code",
   "execution_count": 6,
   "metadata": {
    "collapsed": true
   },
   "outputs": [],
   "source": [
    "import numpy as np\n",
    "from annoy import AnnoyIndex\n",
    "\n",
    "index = AnnoyIndex(vectors.shape[1])\n",
    "for i in range(vectors.shape[0]):\n",
    "    index.add_item(i, vectors[i,:].tolist())"
   ]
  },
  {
   "cell_type": "code",
   "execution_count": 7,
   "metadata": {},
   "outputs": [
    {
     "data": {
      "text/plain": [
       "True"
      ]
     },
     "execution_count": 7,
     "metadata": {},
     "output_type": "execute_result"
    }
   ],
   "source": [
    "index.build(20)\n",
    "index.save(\"index.ann\")"
   ]
  },
  {
   "cell_type": "code",
   "execution_count": 15,
   "metadata": {
    "collapsed": true
   },
   "outputs": [],
   "source": [
    "labels = ['airplane', 'automobile', 'ship', 'truck']\n",
    "lookup = np.argmax(y_train[:, :], axis=1)"
   ]
  },
  {
   "cell_type": "code",
   "execution_count": 20,
   "metadata": {},
   "outputs": [
    {
     "name": "stdout",
     "output_type": "stream",
     "text": [
      "Querying with this random image\n"
     ]
    },
    {
     "data": {
      "image/png": "[encoded data removed]",
      "text/plain": [
       "<matplotlib.figure.Figure at 0x7fa0acb68e50>"
      ]
     },
     "metadata": {},
     "output_type": "display_data"
    },
    {
     "name": "stdout",
     "output_type": "stream",
     "text": [
      "ship\n"
     ]
    }
   ],
   "source": [
    "import random\n",
    "choice_idx = random.randrange(20000)\n",
    "results = index.get_nns_by_item(choice_idx, 100)\n",
    "\n",
    "print \"Querying with this random image\"\n",
    "\n",
    "import matplotlib.pyplot as plt\n",
    "plt.figure(figsize=(2,2))\n",
    "plt.imshow(x_train[choice_idx])\n",
    "plt.axis('off')\n",
    "plt.show()\n",
    "print labels[lookup[choice_idx]]"
   ]
  },
  {
   "cell_type": "code",
   "execution_count": 21,
   "metadata": {},
   "outputs": [
    {
     "name": "stdout",
     "output_type": "stream",
     "text": [
      "Search results:\n"
     ]
    },
    {
     "data": {
      "image/png": "[encoded data removed]",
      "text/plain": [
       "<matplotlib.figure.Figure at 0x7fa0acfa6d50>"
      ]
     },
     "metadata": {},
     "output_type": "display_data"
    }
   ],
   "source": [
    "import matplotlib.pyplot as plt\n",
    "\n",
    "\n",
    "print \"Search results:\"\n",
    "\n",
    "plt.figure(figsize=(10,4))\n",
    "for i in range(10):\n",
    "    ax = plt.subplot(1, 10, i+1)\n",
    "    plt.imshow(x_train[results[i]])\n",
    "    ax.get_xaxis().set_visible(False)\n",
    "    ax.get_yaxis().set_visible(False)\n",
    "    plt.title(str(labels[lookup[results[i]]]))\n",
    "\n",
    "plt.show()"
   ]
  },
  {
   "cell_type": "code",
   "execution_count": 22,
   "metadata": {},
   "outputs": [
    {
     "name": "stdout",
     "output_type": "stream",
     "text": [
      "F1 Score for this search: 1.0\n"
     ]
    }
   ],
   "source": [
    "from sklearn.metrics import f1_score\n",
    "t = np.ones(100).astype(float)\n",
    "p = np.array([lookup[x] == lookup[choice_idx] for x in results]).astype(float)\n",
    "\n",
    "print \"F1 Score for this search:\", f1_score(t, p)"
   ]
  },
  {
   "cell_type": "code",
   "execution_count": null,
   "metadata": {
    "collapsed": true
   },
   "outputs": [],
   "source": []
  }
 ],
 "metadata": {
  "kernelspec": {
   "display_name": "Python 2",
   "language": "python",
   "name": "python2"
  },
  "language_info": {
   "codemirror_mode": {
    "name": "ipython",
    "version": 2
   },
   "file_extension": ".py",
   "mimetype": "text/x-python",
   "name": "python",
   "nbconvert_exporter": "python",
   "pygments_lexer": "ipython2",
   "version": "2.7.13"
  }
 },
 "nbformat": 4,
 "nbformat_minor": 2
}
