{
 "cells": [
  {
   "cell_type": "code",
   "execution_count": 16,
   "metadata": {},
   "outputs": [
    {
     "name": "stdout",
     "output_type": "stream",
     "text": [
      "Loaded pre-trained convolution layers!\n"
     ]
    }
   ],
   "source": [
    "from tensorflow.keras.models import load_model\n",
    "\n",
    "feature_extractor = load_model('extractor.h5')\n",
    "print (\"Loaded pre-trained convolution layers!\")"
   ]
  },
  {
   "cell_type": "code",
   "execution_count": 2,
   "metadata": {},
   "outputs": [
    {
     "name": "stdout",
     "output_type": "stream",
     "text": [
      "(50000, 32, 32, 3)\n",
      "(10000, 32, 32, 3)\n"
     ]
    }
   ],
   "source": [
    "from tensorflow.keras.datasets import cifar10\n",
    "from tensorflow.keras import optimizers\n",
    "import numpy as np\n",
    "\n",
    "(x_train, y_train), (x_test, y_test) = cifar10.load_data()\n",
    "\n",
    "print (x_train.shape)\n",
    "print (x_test.shape)"
   ]
  },
  {
   "cell_type": "code",
   "execution_count": 3,
   "metadata": {},
   "outputs": [
    {
     "name": "stdout",
     "output_type": "stream",
     "text": [
      "(50000, 10)\n",
      "(10000, 10)\n"
     ]
    }
   ],
   "source": [
    "features = feature_extractor.predict(x_train)\n",
    "features_test = feature_extractor.predict(x_test)\n",
    "\n",
    "print (features.shape)\n",
    "print (features_test.shape)"
   ]
  },
  {
   "cell_type": "code",
   "execution_count": 20,
   "metadata": {},
   "outputs": [],
   "source": [
    "from tensorflow.keras.layers import Input, Dense\n",
    "from tensorflow.keras.models import Model, load_model\n",
    "from tensorflow.keras.callbacks import TensorBoard\n",
    "\n",
    "class DeepAutoencoder:\n",
    "    def __init__(self):\n",
    "        self.encoder_model = None\n",
    "        self.model = None\n",
    "        return\n",
    "    \n",
    "    def build(self, input_dim, encoding_dim, opt):\n",
    "        input_layer = Input(shape=(input_dim,))\n",
    "        \n",
    "        hidden_one = Dense(encoding_dim*4, activation='relu') (input_layer)\n",
    "        hidden_two = Dense(encoding_dim*2, activation='relu') (hidden_one)\n",
    "        encoder_output = Dense(encoding_dim, activation='relu') (hidden_two)\n",
    "        self.encoder_model = Model(input_layer, encoder_output)\n",
    "        \n",
    "        hidden_three = Dense(encoding_dim*2, activation='relu') (encoder_output)\n",
    "        hidden_four = Dense(encoding_dim*4, activation='relu') (hidden_three)\n",
    "        decoder_output = Dense(input_dim, activation='sigmoid') (hidden_four)\n",
    "        self.model = Model(input_layer, decoder_output)\n",
    "        \n",
    "        self.model.compile(optimizer=opt, loss='binary_crossentropy', )\n",
    "        return\n",
    "    \n",
    "    def load(self, model_file, encoder_model_file):\n",
    "        self.encoder_model = load_model(encoder_model_file)\n",
    "        self.model = load_model(model_file)\n",
    "        return\n",
    "    \n",
    "    def train(self, train_input, train_output,\n",
    "             val_input, val_output,\n",
    "             epochs=50,\n",
    "             batch_size=256,\n",
    "             shuffle=True):\n",
    "        tensorboard = TensorBoard(log_dir='./tf_logs_two', histogram_freq=0, write_graph=True, write_images=False)\n",
    "        history = self.model.fit(train_input, train_output,\n",
    "                      epochs=epochs, batch_size=batch_size,\n",
    "                      shuffle=True,\n",
    "                      validation_data=(val_input, val_output),\n",
    "                      callbacks=[tensorboard]\n",
    "                      )\n",
    "        return history\n",
    "    \n",
    "    def encoder_predict(self, test_input):\n",
    "        return self.encoder_model.predict(test_input)\n",
    "    \n",
    "    def predict(self, test_input):\n",
    "        return self.model.predict(test_input)\n",
    "    \n",
    "    def save(self, model_file, encoder_model_file):\n",
    "        self.model.save(model_file)\n",
    "        self.encoder_model.save(encoder_model_file)\n",
    "        return"
   ]
  },
  {
   "cell_type": "code",
   "execution_count": 21,
   "metadata": {},
   "outputs": [],
   "source": [
    "from tensorflow.keras import optimizers\n",
    "\n",
    "pretrain_features_size = 10\n",
    "target_dim_size = 32\n",
    "autoencoder = DeepAutoencoder()\n",
    "opt = optimizers.Adam(lr=0.0001)\n",
    "autoencoder.build(pretrain_features_size, target_dim_size, opt)"
   ]
  },
  {
   "cell_type": "code",
   "execution_count": 22,
   "metadata": {},
   "outputs": [
    {
     "name": "stdout",
     "output_type": "stream",
     "text": [
      "Train on 50000 samples, validate on 10000 samples\n",
      "Epoch 1/50\n",
      "50000/50000 [==============================] - 1s 23us/sample - loss: 0.5398 - val_loss: 0.3192\n",
      "Epoch 2/50\n",
      "50000/50000 [==============================] - 1s 16us/sample - loss: 0.2875 - val_loss: 0.2439\n",
      "Epoch 3/50\n",
      "50000/50000 [==============================] - 1s 14us/sample - loss: 0.1559 - val_loss: 0.0933\n",
      "Epoch 4/50\n",
      "50000/50000 [==============================] - 1s 15us/sample - loss: 0.0432 - val_loss: 0.0481\n",
      "Epoch 5/50\n",
      "50000/50000 [==============================] - 1s 14us/sample - loss: 0.0224 - val_loss: 0.0439\n",
      "Epoch 6/50\n",
      "50000/50000 [==============================] - 1s 14us/sample - loss: 0.0197 - val_loss: 0.0430\n",
      "Epoch 7/50\n",
      "50000/50000 [==============================] - 1s 14us/sample - loss: 0.0189 - val_loss: 0.0423\n",
      "Epoch 8/50\n",
      "50000/50000 [==============================] - 1s 14us/sample - loss: 0.0186 - val_loss: 0.0418\n",
      "Epoch 9/50\n",
      "50000/50000 [==============================] - 1s 14us/sample - loss: 0.0183 - val_loss: 0.0415\n",
      "Epoch 10/50\n",
      "50000/50000 [==============================] - 1s 15us/sample - loss: 0.0182 - val_loss: 0.0411\n",
      "Epoch 11/50\n",
      "50000/50000 [==============================] - 1s 18us/sample - loss: 0.0180 - val_loss: 0.0408\n",
      "Epoch 12/50\n",
      "50000/50000 [==============================] - 1s 15us/sample - loss: 0.0179 - val_loss: 0.0405\n",
      "Epoch 13/50\n",
      "50000/50000 [==============================] - 1s 16us/sample - loss: 0.0178 - val_loss: 0.0402\n",
      "Epoch 14/50\n",
      "50000/50000 [==============================] - 1s 15us/sample - loss: 0.0177 - val_loss: 0.0400\n",
      "Epoch 15/50\n",
      "50000/50000 [==============================] - 1s 17us/sample - loss: 0.0176 - val_loss: 0.0397\n",
      "Epoch 16/50\n",
      "50000/50000 [==============================] - 1s 15us/sample - loss: 0.0175 - val_loss: 0.0395\n",
      "Epoch 17/50\n",
      "50000/50000 [==============================] - 1s 15us/sample - loss: 0.0174 - val_loss: 0.0393\n",
      "Epoch 18/50\n",
      "50000/50000 [==============================] - 1s 13us/sample - loss: 0.0173 - val_loss: 0.0390\n",
      "Epoch 19/50\n",
      "50000/50000 [==============================] - 1s 13us/sample - loss: 0.0172 - val_loss: 0.0387\n",
      "Epoch 20/50\n",
      "50000/50000 [==============================] - 1s 13us/sample - loss: 0.0171 - val_loss: 0.0385\n",
      "Epoch 21/50\n",
      "50000/50000 [==============================] - 1s 14us/sample - loss: 0.0170 - val_loss: 0.0383\n",
      "Epoch 22/50\n",
      "50000/50000 [==============================] - 1s 13us/sample - loss: 0.0169 - val_loss: 0.0381\n",
      "Epoch 23/50\n",
      "50000/50000 [==============================] - 1s 13us/sample - loss: 0.0168 - val_loss: 0.0379\n",
      "Epoch 24/50\n",
      "50000/50000 [==============================] - 1s 13us/sample - loss: 0.0168 - val_loss: 0.0376\n",
      "Epoch 25/50\n",
      "50000/50000 [==============================] - 1s 13us/sample - loss: 0.0167 - val_loss: 0.0375\n",
      "Epoch 26/50\n",
      "50000/50000 [==============================] - 1s 13us/sample - loss: 0.0166 - val_loss: 0.0372\n",
      "Epoch 27/50\n",
      "50000/50000 [==============================] - 1s 13us/sample - loss: 0.0165 - val_loss: 0.0370\n",
      "Epoch 28/50\n",
      "50000/50000 [==============================] - 1s 13us/sample - loss: 0.0164 - val_loss: 0.0369\n",
      "Epoch 29/50\n",
      "50000/50000 [==============================] - 1s 13us/sample - loss: 0.0163 - val_loss: 0.0366\n",
      "Epoch 30/50\n",
      "50000/50000 [==============================] - 1s 16us/sample - loss: 0.0162 - val_loss: 0.0364\n",
      "Epoch 31/50\n",
      "50000/50000 [==============================] - 1s 16us/sample - loss: 0.0161 - val_loss: 0.0361\n",
      "Epoch 32/50\n",
      "50000/50000 [==============================] - 1s 16us/sample - loss: 0.0160 - val_loss: 0.0359\n",
      "Epoch 33/50\n",
      "50000/50000 [==============================] - 1s 20us/sample - loss: 0.0159 - val_loss: 0.0357\n",
      "Epoch 34/50\n",
      "50000/50000 [==============================] - 1s 15us/sample - loss: 0.0158 - val_loss: 0.0355\n",
      "Epoch 35/50\n",
      "50000/50000 [==============================] - 1s 16us/sample - loss: 0.0158 - val_loss: 0.0353\n",
      "Epoch 36/50\n",
      "50000/50000 [==============================] - 1s 16us/sample - loss: 0.0157 - val_loss: 0.0352\n",
      "Epoch 37/50\n",
      "50000/50000 [==============================] - 1s 13us/sample - loss: 0.0156 - val_loss: 0.0349\n",
      "Epoch 38/50\n",
      "50000/50000 [==============================] - 1s 13us/sample - loss: 0.0155 - val_loss: 0.0347\n",
      "Epoch 39/50\n",
      "50000/50000 [==============================] - 1s 13us/sample - loss: 0.0154 - val_loss: 0.0346\n",
      "Epoch 40/50\n",
      "50000/50000 [==============================] - 1s 13us/sample - loss: 0.0153 - val_loss: 0.0344\n",
      "Epoch 41/50\n",
      "50000/50000 [==============================] - 1s 15us/sample - loss: 0.0152 - val_loss: 0.0342\n",
      "Epoch 42/50\n",
      "50000/50000 [==============================] - 1s 15us/sample - loss: 0.0151 - val_loss: 0.0341\n",
      "Epoch 43/50\n",
      "50000/50000 [==============================] - 1s 14us/sample - loss: 0.0150 - val_loss: 0.0339\n",
      "Epoch 44/50\n",
      "50000/50000 [==============================] - 1s 14us/sample - loss: 0.0150 - val_loss: 0.0337\n",
      "Epoch 45/50\n",
      "50000/50000 [==============================] - 1s 14us/sample - loss: 0.0149 - val_loss: 0.0337\n",
      "Epoch 46/50\n",
      "50000/50000 [==============================] - 1s 16us/sample - loss: 0.0148 - val_loss: 0.0335\n",
      "Epoch 47/50\n",
      "50000/50000 [==============================] - 1s 16us/sample - loss: 0.0148 - val_loss: 0.0334\n",
      "Epoch 48/50\n",
      "50000/50000 [==============================] - 1s 16us/sample - loss: 0.0147 - val_loss: 0.0332\n",
      "Epoch 49/50\n",
      "50000/50000 [==============================] - 1s 19us/sample - loss: 0.0146 - val_loss: 0.0331\n",
      "Epoch 50/50\n",
      "50000/50000 [==============================] - 1s 20us/sample - loss: 0.0146 - val_loss: 0.0330\n"
     ]
    }
   ],
   "source": [
    "history = autoencoder.train(features, features, features_test, features_test,\n",
    "                 epochs=50,\n",
    "                 batch_size=256,\n",
    "                 shuffle=True)"
   ]
  },
  {
   "cell_type": "code",
   "execution_count": 14,
   "metadata": {},
   "outputs": [
    {
     "name": "stdout",
     "output_type": "stream",
     "text": [
      "dict_keys(['loss', 'val_loss'])\n"
     ]
    },
    {
     "data": {
      "image/png": "[encoded data removed]",
      "text/plain": [
       "<Figure size 432x288 with 1 Axes>"
      ]
     },
     "metadata": {
      "needs_background": "light"
     },
     "output_type": "display_data"
    }
   ],
   "source": [
    "import matplotlib.pyplot as plt\n",
    "print(history.history.keys())\n",
    "# summarize history for accuracy\n",
    "# plt.plot(history.history['accuracy'])\n",
    "# plt.plot(history.history['val_accuracy'])\n",
    "# plt.title('model accuracy')\n",
    "# plt.ylabel('accuracy')\n",
    "# plt.xlabel('epoch')\n",
    "# plt.legend(['train', 'test'], loc='upper left')\n",
    "# plt.show()\n",
    "# summarize history for loss\n",
    "plt.plot(history.history['loss'])\n",
    "plt.plot(history.history['val_loss'])\n",
    "plt.title('model loss')\n",
    "plt.ylabel('loss')\n",
    "plt.xlabel('epoch')\n",
    "plt.legend(['train', 'test'], loc='upper left')\n",
    "plt.show()"
   ]
  },
  {
   "cell_type": "code",
   "execution_count": 15,
   "metadata": {},
   "outputs": [
    {
     "name": "stdout",
     "output_type": "stream",
     "text": [
      "Saved!\n"
     ]
    }
   ],
   "source": [
    "autoencoder.save('ae-complete.h5', 'ae-encoder.h5')\n",
    "print (\"Saved!\")"
   ]
  },
  {
   "cell_type": "code",
   "execution_count": null,
   "metadata": {},
   "outputs": [],
   "source": []
  }
 ],
 "metadata": {
  "kernelspec": {
   "display_name": "Python 3",
   "language": "python",
   "name": "python3"
  },
  "language_info": {
   "codemirror_mode": {
    "name": "ipython",
    "version": 3
   },
   "file_extension": ".py",
   "mimetype": "text/x-python",
   "name": "python",
   "nbconvert_exporter": "python",
   "pygments_lexer": "ipython3",
   "version": "3.7.6"
  }
 },
 "nbformat": 4,
 "nbformat_minor": 4
}
