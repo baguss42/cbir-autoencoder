{
 "cells": [
  {
   "cell_type": "code",
   "execution_count": 1,
   "metadata": {},
   "outputs": [
    {
     "name": "stdout",
     "output_type": "stream",
     "text": [
      "INFO:tensorflow:Enabling eager execution\n",
      "INFO:tensorflow:Enabling v2 tensorshape\n",
      "INFO:tensorflow:Enabling resource variables\n",
      "INFO:tensorflow:Enabling tensor equality\n",
      "INFO:tensorflow:Enabling control flow v2\n"
     ]
    }
   ],
   "source": [
    "from tensorflow.keras.datasets import cifar10\n",
    "import numpy as np\n",
    "import matplotlib.pyplot as plt\n",
    "\n",
    "(x_train, _), (x_test, _) = cifar10.load_data()\n",
    "\n",
    "# x_train = x_train.astype('float32') / 255.\n",
    "# x_test = x_test.astype('float32') / 255.\n",
    "# x_train = np.reshape(x_train, (len(x_train), 28, 28, 1))\n",
    "# x_test = np.reshape(x_test, (len(x_test), 28, 28, 1))\n",
    "\n",
    "# noise_factor = 0.1\n",
    "# x_train_noisy = x_train + noise_factor * np.random.normal(loc=0.0, scale=1.0, size=x_train.shape) \n",
    "# x_test_noisy = x_test + noise_factor * np.random.normal(loc=0.0, scale=1.0, size=x_test.shape) \n",
    "\n",
    "# x_train_noisy = np.clip(x_train_noisy, 0., 1.)\n",
    "# x_test_noisy = np.clip(x_test_noisy, 0., 1.)\n",
    "\n",
    "# x_train = x_train.astype('float32') / 255.\n",
    "# x_test = x_test.astype('float32') / 255.\n",
    "\n",
    "# x_train = x_train.astype('float32')\n",
    "# x_test = x_test.astype('float32')"
   ]
  },
  {
   "cell_type": "code",
   "execution_count": 1,
   "metadata": {},
   "outputs": [
    {
     "name": "stdout",
     "output_type": "stream",
     "text": [
      "(50000, 10)\n",
      "(10000, 10)\n"
     ]
    }
   ],
   "source": [
    "import pickle\n",
    "\n",
    "pickle_in = open(\"model-features/cbir-resnet-features.pickle\", \"rb\")\n",
    "features = pickle.load(pickle_in)\n",
    "\n",
    "pickle_in = open(\"model-features/cbir-resnet-features-test.pickle\", \"rb\")\n",
    "features_test = pickle.load(pickle_in)\n",
    "\n",
    "print (features.shape)\n",
    "print (features_test.shape)"
   ]
  },
  {
   "cell_type": "code",
   "execution_count": 2,
   "metadata": {},
   "outputs": [
    {
     "name": "stdout",
     "output_type": "stream",
     "text": [
      "INFO:tensorflow:Enabling eager execution\n",
      "INFO:tensorflow:Enabling v2 tensorshape\n",
      "INFO:tensorflow:Enabling resource variables\n",
      "INFO:tensorflow:Enabling tensor equality\n",
      "INFO:tensorflow:Enabling control flow v2\n"
     ]
    }
   ],
   "source": [
    "from tensorflow.keras.layers import GaussianNoise\n",
    "import random\n",
    "idx = random.randrange(10000)\n",
    "sample = GaussianNoise(0.08)\n",
    "# img = x_test.astype(np.float32) / 255\n",
    "\n",
    "features = sample(features,training=True)\n",
    "features_test = sample(features_test,training=True)\n",
    "# noisey_img = noisey.astype(np.uint8)\n"
   ]
  },
  {
   "cell_type": "code",
   "execution_count": 4,
   "metadata": {},
   "outputs": [
    {
     "ename": "TypeError",
     "evalue": "Invalid shape (10,) for image data",
     "output_type": "error",
     "traceback": [
      "\u001b[0;31m---------------------------------------------------------------------------\u001b[0m",
      "\u001b[0;31mTypeError\u001b[0m                                 Traceback (most recent call last)",
      "\u001b[0;32m<ipython-input-4-1b7d753f1c82>\u001b[0m in \u001b[0;36m<module>\u001b[0;34m\u001b[0m\n\u001b[1;32m      1\u001b[0m \u001b[0;32mimport\u001b[0m \u001b[0mmatplotlib\u001b[0m\u001b[0;34m.\u001b[0m\u001b[0mpyplot\u001b[0m \u001b[0;32mas\u001b[0m \u001b[0mplt\u001b[0m\u001b[0;34m\u001b[0m\u001b[0;34m\u001b[0m\u001b[0m\n\u001b[1;32m      2\u001b[0m \u001b[0;31m# plt.subplot(1,2,1)\u001b[0m\u001b[0;34m\u001b[0m\u001b[0;34m\u001b[0m\u001b[0;34m\u001b[0m\u001b[0m\n\u001b[0;32m----> 3\u001b[0;31m \u001b[0mplt\u001b[0m\u001b[0;34m.\u001b[0m\u001b[0mimshow\u001b[0m\u001b[0;34m(\u001b[0m\u001b[0mfeatures\u001b[0m\u001b[0;34m[\u001b[0m\u001b[0midx\u001b[0m\u001b[0;34m]\u001b[0m\u001b[0;34m)\u001b[0m\u001b[0;34m\u001b[0m\u001b[0;34m\u001b[0m\u001b[0m\n\u001b[0m\u001b[1;32m      4\u001b[0m \u001b[0;31m# plt.title('Original image')\u001b[0m\u001b[0;34m\u001b[0m\u001b[0;34m\u001b[0m\u001b[0;34m\u001b[0m\u001b[0m\n\u001b[1;32m      5\u001b[0m \u001b[0;31m# plt.subplot(1,2,2)\u001b[0m\u001b[0;34m\u001b[0m\u001b[0;34m\u001b[0m\u001b[0;34m\u001b[0m\u001b[0m\n",
      "\u001b[0;32m~/anaconda3/lib/python3.7/site-packages/matplotlib/pyplot.py\u001b[0m in \u001b[0;36mimshow\u001b[0;34m(X, cmap, norm, aspect, interpolation, alpha, vmin, vmax, origin, extent, shape, filternorm, filterrad, imlim, resample, url, data, **kwargs)\u001b[0m\n\u001b[1;32m   2682\u001b[0m         \u001b[0mfilternorm\u001b[0m\u001b[0;34m=\u001b[0m\u001b[0mfilternorm\u001b[0m\u001b[0;34m,\u001b[0m \u001b[0mfilterrad\u001b[0m\u001b[0;34m=\u001b[0m\u001b[0mfilterrad\u001b[0m\u001b[0;34m,\u001b[0m \u001b[0mimlim\u001b[0m\u001b[0;34m=\u001b[0m\u001b[0mimlim\u001b[0m\u001b[0;34m,\u001b[0m\u001b[0;34m\u001b[0m\u001b[0;34m\u001b[0m\u001b[0m\n\u001b[1;32m   2683\u001b[0m         resample=resample, url=url, **({\"data\": data} if data is not\n\u001b[0;32m-> 2684\u001b[0;31m         None else {}), **kwargs)\n\u001b[0m\u001b[1;32m   2685\u001b[0m     \u001b[0msci\u001b[0m\u001b[0;34m(\u001b[0m\u001b[0m__ret\u001b[0m\u001b[0;34m)\u001b[0m\u001b[0;34m\u001b[0m\u001b[0;34m\u001b[0m\u001b[0m\n\u001b[1;32m   2686\u001b[0m     \u001b[0;32mreturn\u001b[0m \u001b[0m__ret\u001b[0m\u001b[0;34m\u001b[0m\u001b[0;34m\u001b[0m\u001b[0m\n",
      "\u001b[0;32m~/anaconda3/lib/python3.7/site-packages/matplotlib/__init__.py\u001b[0m in \u001b[0;36minner\u001b[0;34m(ax, data, *args, **kwargs)\u001b[0m\n\u001b[1;32m   1597\u001b[0m     \u001b[0;32mdef\u001b[0m \u001b[0minner\u001b[0m\u001b[0;34m(\u001b[0m\u001b[0max\u001b[0m\u001b[0;34m,\u001b[0m \u001b[0;34m*\u001b[0m\u001b[0margs\u001b[0m\u001b[0;34m,\u001b[0m \u001b[0mdata\u001b[0m\u001b[0;34m=\u001b[0m\u001b[0;32mNone\u001b[0m\u001b[0;34m,\u001b[0m \u001b[0;34m**\u001b[0m\u001b[0mkwargs\u001b[0m\u001b[0;34m)\u001b[0m\u001b[0;34m:\u001b[0m\u001b[0;34m\u001b[0m\u001b[0;34m\u001b[0m\u001b[0m\n\u001b[1;32m   1598\u001b[0m         \u001b[0;32mif\u001b[0m \u001b[0mdata\u001b[0m \u001b[0;32mis\u001b[0m \u001b[0;32mNone\u001b[0m\u001b[0;34m:\u001b[0m\u001b[0;34m\u001b[0m\u001b[0;34m\u001b[0m\u001b[0m\n\u001b[0;32m-> 1599\u001b[0;31m             \u001b[0;32mreturn\u001b[0m \u001b[0mfunc\u001b[0m\u001b[0;34m(\u001b[0m\u001b[0max\u001b[0m\u001b[0;34m,\u001b[0m \u001b[0;34m*\u001b[0m\u001b[0mmap\u001b[0m\u001b[0;34m(\u001b[0m\u001b[0msanitize_sequence\u001b[0m\u001b[0;34m,\u001b[0m \u001b[0margs\u001b[0m\u001b[0;34m)\u001b[0m\u001b[0;34m,\u001b[0m \u001b[0;34m**\u001b[0m\u001b[0mkwargs\u001b[0m\u001b[0;34m)\u001b[0m\u001b[0;34m\u001b[0m\u001b[0;34m\u001b[0m\u001b[0m\n\u001b[0m\u001b[1;32m   1600\u001b[0m \u001b[0;34m\u001b[0m\u001b[0m\n\u001b[1;32m   1601\u001b[0m         \u001b[0mbound\u001b[0m \u001b[0;34m=\u001b[0m \u001b[0mnew_sig\u001b[0m\u001b[0;34m.\u001b[0m\u001b[0mbind\u001b[0m\u001b[0;34m(\u001b[0m\u001b[0max\u001b[0m\u001b[0;34m,\u001b[0m \u001b[0;34m*\u001b[0m\u001b[0margs\u001b[0m\u001b[0;34m,\u001b[0m \u001b[0;34m**\u001b[0m\u001b[0mkwargs\u001b[0m\u001b[0;34m)\u001b[0m\u001b[0;34m\u001b[0m\u001b[0;34m\u001b[0m\u001b[0m\n",
      "\u001b[0;32m~/anaconda3/lib/python3.7/site-packages/matplotlib/cbook/deprecation.py\u001b[0m in \u001b[0;36mwrapper\u001b[0;34m(*args, **kwargs)\u001b[0m\n\u001b[1;32m    367\u001b[0m                 \u001b[0;34mf\"%(removal)s.  If any parameter follows {name!r}, they \"\u001b[0m\u001b[0;34m\u001b[0m\u001b[0;34m\u001b[0m\u001b[0m\n\u001b[1;32m    368\u001b[0m                 f\"should be pass as keyword, not positionally.\")\n\u001b[0;32m--> 369\u001b[0;31m         \u001b[0;32mreturn\u001b[0m \u001b[0mfunc\u001b[0m\u001b[0;34m(\u001b[0m\u001b[0;34m*\u001b[0m\u001b[0margs\u001b[0m\u001b[0;34m,\u001b[0m \u001b[0;34m**\u001b[0m\u001b[0mkwargs\u001b[0m\u001b[0;34m)\u001b[0m\u001b[0;34m\u001b[0m\u001b[0;34m\u001b[0m\u001b[0m\n\u001b[0m\u001b[1;32m    370\u001b[0m \u001b[0;34m\u001b[0m\u001b[0m\n\u001b[1;32m    371\u001b[0m     \u001b[0;32mreturn\u001b[0m \u001b[0mwrapper\u001b[0m\u001b[0;34m\u001b[0m\u001b[0;34m\u001b[0m\u001b[0m\n",
      "\u001b[0;32m~/anaconda3/lib/python3.7/site-packages/matplotlib/cbook/deprecation.py\u001b[0m in \u001b[0;36mwrapper\u001b[0;34m(*args, **kwargs)\u001b[0m\n\u001b[1;32m    367\u001b[0m                 \u001b[0;34mf\"%(removal)s.  If any parameter follows {name!r}, they \"\u001b[0m\u001b[0;34m\u001b[0m\u001b[0;34m\u001b[0m\u001b[0m\n\u001b[1;32m    368\u001b[0m                 f\"should be pass as keyword, not positionally.\")\n\u001b[0;32m--> 369\u001b[0;31m         \u001b[0;32mreturn\u001b[0m \u001b[0mfunc\u001b[0m\u001b[0;34m(\u001b[0m\u001b[0;34m*\u001b[0m\u001b[0margs\u001b[0m\u001b[0;34m,\u001b[0m \u001b[0;34m**\u001b[0m\u001b[0mkwargs\u001b[0m\u001b[0;34m)\u001b[0m\u001b[0;34m\u001b[0m\u001b[0;34m\u001b[0m\u001b[0m\n\u001b[0m\u001b[1;32m    370\u001b[0m \u001b[0;34m\u001b[0m\u001b[0m\n\u001b[1;32m    371\u001b[0m     \u001b[0;32mreturn\u001b[0m \u001b[0mwrapper\u001b[0m\u001b[0;34m\u001b[0m\u001b[0;34m\u001b[0m\u001b[0m\n",
      "\u001b[0;32m~/anaconda3/lib/python3.7/site-packages/matplotlib/axes/_axes.py\u001b[0m in \u001b[0;36mimshow\u001b[0;34m(self, X, cmap, norm, aspect, interpolation, alpha, vmin, vmax, origin, extent, shape, filternorm, filterrad, imlim, resample, url, **kwargs)\u001b[0m\n\u001b[1;32m   5677\u001b[0m                               resample=resample, **kwargs)\n\u001b[1;32m   5678\u001b[0m \u001b[0;34m\u001b[0m\u001b[0m\n\u001b[0;32m-> 5679\u001b[0;31m         \u001b[0mim\u001b[0m\u001b[0;34m.\u001b[0m\u001b[0mset_data\u001b[0m\u001b[0;34m(\u001b[0m\u001b[0mX\u001b[0m\u001b[0;34m)\u001b[0m\u001b[0;34m\u001b[0m\u001b[0;34m\u001b[0m\u001b[0m\n\u001b[0m\u001b[1;32m   5680\u001b[0m         \u001b[0mim\u001b[0m\u001b[0;34m.\u001b[0m\u001b[0mset_alpha\u001b[0m\u001b[0;34m(\u001b[0m\u001b[0malpha\u001b[0m\u001b[0;34m)\u001b[0m\u001b[0;34m\u001b[0m\u001b[0;34m\u001b[0m\u001b[0m\n\u001b[1;32m   5681\u001b[0m         \u001b[0;32mif\u001b[0m \u001b[0mim\u001b[0m\u001b[0;34m.\u001b[0m\u001b[0mget_clip_path\u001b[0m\u001b[0;34m(\u001b[0m\u001b[0;34m)\u001b[0m \u001b[0;32mis\u001b[0m \u001b[0;32mNone\u001b[0m\u001b[0;34m:\u001b[0m\u001b[0;34m\u001b[0m\u001b[0;34m\u001b[0m\u001b[0m\n",
      "\u001b[0;32m~/anaconda3/lib/python3.7/site-packages/matplotlib/image.py\u001b[0m in \u001b[0;36mset_data\u001b[0;34m(self, A)\u001b[0m\n\u001b[1;32m    688\u001b[0m                 or self._A.ndim == 3 and self._A.shape[-1] in [3, 4]):\n\u001b[1;32m    689\u001b[0m             raise TypeError(\"Invalid shape {} for image data\"\n\u001b[0;32m--> 690\u001b[0;31m                             .format(self._A.shape))\n\u001b[0m\u001b[1;32m    691\u001b[0m \u001b[0;34m\u001b[0m\u001b[0m\n\u001b[1;32m    692\u001b[0m         \u001b[0;32mif\u001b[0m \u001b[0mself\u001b[0m\u001b[0;34m.\u001b[0m\u001b[0m_A\u001b[0m\u001b[0;34m.\u001b[0m\u001b[0mndim\u001b[0m \u001b[0;34m==\u001b[0m \u001b[0;36m3\u001b[0m\u001b[0;34m:\u001b[0m\u001b[0;34m\u001b[0m\u001b[0;34m\u001b[0m\u001b[0m\n",
      "\u001b[0;31mTypeError\u001b[0m: Invalid shape (10,) for image data"
     ]
    },
    {
     "data": {
      "image/png": "[encoded data removed]",
      "text/plain": [
       "<Figure size 432x288 with 1 Axes>"
      ]
     },
     "metadata": {
      "needs_background": "light"
     },
     "output_type": "display_data"
    }
   ],
   "source": [
    "import matplotlib.pyplot as plt\n",
    "# plt.subplot(1,2,1)\n",
    "plt.imshow(features[idx])\n",
    "# plt.title('Original image')\n",
    "# plt.subplot(1,2,2)\n",
    "# plt.imshow(x_test_noise[idx])\n",
    "# plt.title('Image with noise')\n",
    "# plt.show()"
   ]
  },
  {
   "cell_type": "code",
   "execution_count": 3,
   "metadata": {},
   "outputs": [
    {
     "name": "stderr",
     "output_type": "stream",
     "text": [
      "/home/softdev/anaconda3/lib/python3.7/site-packages/tensorflow/python/keras/optimizer_v2/optimizer_v2.py:375: UserWarning: The `lr` argument is deprecated, use `learning_rate` instead.\n",
      "  \"The `lr` argument is deprecated, use `learning_rate` instead.\")\n"
     ]
    }
   ],
   "source": [
    "from tensorflow.keras.layers import Input, Dense\n",
    "from tensorflow.keras.models import Model, load_model\n",
    "from tensorflow.keras import optimizers\n",
    "\n",
    "input_dim = 10\n",
    "encoding_dim = 32\n",
    "opt = optimizers.Adam(lr=0.0001)\n",
    "\n",
    "input_layer = Input(shape=(input_dim,))\n",
    "encoder_output = Dense(encoding_dim, activation='relu') (input_layer)\n",
    "encoder_model = Model(input_layer, encoder_output)\n",
    "decoder_output = Dense(input_dim, activation='sigmoid') (encoder_output)\n",
    "model = Model(input_layer, decoder_output)\n",
    "model.compile(optimizer='adadelta', loss='binary_crossentropy')"
   ]
  },
  {
   "cell_type": "code",
   "execution_count": 4,
   "metadata": {},
   "outputs": [
    {
     "name": "stdout",
     "output_type": "stream",
     "text": [
      "Epoch 1/100\n",
      "3125/3125 [==============================] - 3s 938us/step - loss: 0.7142 - val_loss: 0.7043\n",
      "Epoch 2/100\n",
      "3125/3125 [==============================] - 3s 903us/step - loss: 0.7019 - val_loss: 0.6912\n",
      "Epoch 3/100\n",
      "3125/3125 [==============================] - 3s 916us/step - loss: 0.6884 - val_loss: 0.6779\n",
      "Epoch 4/100\n",
      "3125/3125 [==============================] - 3s 918us/step - loss: 0.6749 - val_loss: 0.6647\n",
      "Epoch 5/100\n",
      "3125/3125 [==============================] - 3s 911us/step - loss: 0.6612 - val_loss: 0.6517\n",
      "Epoch 6/100\n",
      "3125/3125 [==============================] - 3s 901us/step - loss: 0.6479 - val_loss: 0.6388\n",
      "Epoch 7/100\n",
      "3125/3125 [==============================] - 3s 923us/step - loss: 0.6348 - val_loss: 0.6259\n",
      "Epoch 8/100\n",
      "3125/3125 [==============================] - 3s 925us/step - loss: 0.6215 - val_loss: 0.6130\n",
      "Epoch 9/100\n",
      "3125/3125 [==============================] - 3s 916us/step - loss: 0.6084 - val_loss: 0.6001\n",
      "Epoch 10/100\n",
      "3125/3125 [==============================] - 3s 925us/step - loss: 0.5949 - val_loss: 0.5872\n",
      "Epoch 11/100\n",
      "3125/3125 [==============================] - 3s 915us/step - loss: 0.5819 - val_loss: 0.5742\n",
      "Epoch 12/100\n",
      "3125/3125 [==============================] - 3s 928us/step - loss: 0.5687 - val_loss: 0.5612\n",
      "Epoch 13/100\n",
      "3125/3125 [==============================] - 3s 1ms/step - loss: 0.5556 - val_loss: 0.5481\n",
      "Epoch 14/100\n",
      "3125/3125 [==============================] - 3s 936us/step - loss: 0.5420 - val_loss: 0.5349\n",
      "Epoch 15/100\n",
      "3125/3125 [==============================] - 3s 925us/step - loss: 0.5286 - val_loss: 0.5216\n",
      "Epoch 16/100\n",
      "3125/3125 [==============================] - 3s 961us/step - loss: 0.5150 - val_loss: 0.5083\n",
      "Epoch 17/100\n",
      "3125/3125 [==============================] - 3s 920us/step - loss: 0.5015 - val_loss: 0.4950\n",
      "Epoch 18/100\n",
      "3125/3125 [==============================] - 3s 923us/step - loss: 0.4882 - val_loss: 0.4817\n",
      "Epoch 19/100\n",
      "3125/3125 [==============================] - 3s 924us/step - loss: 0.4746 - val_loss: 0.4685\n",
      "Epoch 20/100\n",
      "3125/3125 [==============================] - 3s 938us/step - loss: 0.4612 - val_loss: 0.4554\n",
      "Epoch 21/100\n",
      "3125/3125 [==============================] - 3s 945us/step - loss: 0.4479 - val_loss: 0.4424\n",
      "Epoch 22/100\n",
      "3125/3125 [==============================] - 3s 923us/step - loss: 0.4351 - val_loss: 0.4297\n",
      "Epoch 23/100\n",
      "3125/3125 [==============================] - 3s 920us/step - loss: 0.4222 - val_loss: 0.4172\n",
      "Epoch 24/100\n",
      "3125/3125 [==============================] - 3s 922us/step - loss: 0.4099 - val_loss: 0.4052\n",
      "Epoch 25/100\n",
      "3125/3125 [==============================] - 3s 921us/step - loss: 0.3982 - val_loss: 0.3935\n",
      "Epoch 26/100\n",
      "3125/3125 [==============================] - 3s 942us/step - loss: 0.3862 - val_loss: 0.3824\n",
      "Epoch 27/100\n",
      "3125/3125 [==============================] - 3s 929us/step - loss: 0.3751 - val_loss: 0.3717\n",
      "Epoch 28/100\n",
      "3125/3125 [==============================] - 3s 916us/step - loss: 0.3646 - val_loss: 0.3615\n",
      "Epoch 29/100\n",
      "3125/3125 [==============================] - 3s 931us/step - loss: 0.3545 - val_loss: 0.3519\n",
      "Epoch 30/100\n",
      "3125/3125 [==============================] - 3s 945us/step - loss: 0.3449 - val_loss: 0.3430\n",
      "Epoch 31/100\n",
      "3125/3125 [==============================] - 3s 962us/step - loss: 0.3362 - val_loss: 0.3346\n",
      "Epoch 32/100\n",
      "3125/3125 [==============================] - 3s 934us/step - loss: 0.3282 - val_loss: 0.3268\n",
      "Epoch 33/100\n",
      "3125/3125 [==============================] - 3s 931us/step - loss: 0.3202 - val_loss: 0.3196\n",
      "Epoch 34/100\n",
      "3125/3125 [==============================] - 3s 924us/step - loss: 0.3133 - val_loss: 0.3128\n",
      "Epoch 35/100\n",
      "3125/3125 [==============================] - 3s 921us/step - loss: 0.3066 - val_loss: 0.3066\n",
      "Epoch 36/100\n",
      "3125/3125 [==============================] - 3s 1ms/step - loss: 0.3002 - val_loss: 0.3008\n",
      "Epoch 37/100\n",
      "3125/3125 [==============================] - 3s 1ms/step - loss: 0.2947 - val_loss: 0.2955\n",
      "Epoch 38/100\n",
      "3125/3125 [==============================] - 3s 849us/step - loss: 0.2896 - val_loss: 0.2905\n",
      "Epoch 39/100\n",
      "3125/3125 [==============================] - 3s 822us/step - loss: 0.2843 - val_loss: 0.2860\n",
      "Epoch 40/100\n",
      "3125/3125 [==============================] - 3s 822us/step - loss: 0.2796 - val_loss: 0.2817\n",
      "Epoch 41/100\n",
      "3125/3125 [==============================] - 3s 818us/step - loss: 0.2752 - val_loss: 0.2777\n",
      "Epoch 42/100\n",
      "3125/3125 [==============================] - 3s 830us/step - loss: 0.2711 - val_loss: 0.2739\n",
      "Epoch 43/100\n",
      "3125/3125 [==============================] - 3s 804us/step - loss: 0.2675 - val_loss: 0.2704\n",
      "Epoch 44/100\n",
      "3125/3125 [==============================] - 3s 845us/step - loss: 0.2633 - val_loss: 0.2670\n",
      "Epoch 45/100\n",
      "3125/3125 [==============================] - 3s 880us/step - loss: 0.2610 - val_loss: 0.2639\n",
      "Epoch 46/100\n",
      "3125/3125 [==============================] - 3s 844us/step - loss: 0.2574 - val_loss: 0.2608\n",
      "Epoch 47/100\n",
      "3125/3125 [==============================] - 3s 829us/step - loss: 0.2541 - val_loss: 0.2579\n",
      "Epoch 48/100\n",
      "3125/3125 [==============================] - 3s 822us/step - loss: 0.2511 - val_loss: 0.2551\n",
      "Epoch 49/100\n",
      "3125/3125 [==============================] - 3s 804us/step - loss: 0.2477 - val_loss: 0.2524\n",
      "Epoch 50/100\n",
      "3125/3125 [==============================] - 3s 823us/step - loss: 0.2461 - val_loss: 0.2498\n",
      "Epoch 51/100\n",
      "3125/3125 [==============================] - 3s 819us/step - loss: 0.2423 - val_loss: 0.2472\n",
      "Epoch 52/100\n",
      "3125/3125 [==============================] - 3s 809us/step - loss: 0.2399 - val_loss: 0.2447\n",
      "Epoch 53/100\n",
      "3125/3125 [==============================] - 3s 822us/step - loss: 0.2377 - val_loss: 0.2423\n",
      "Epoch 54/100\n",
      "3125/3125 [==============================] - 3s 830us/step - loss: 0.2351 - val_loss: 0.2399\n",
      "Epoch 55/100\n",
      "3125/3125 [==============================] - 3s 818us/step - loss: 0.2326 - val_loss: 0.2375\n",
      "Epoch 56/100\n",
      "3125/3125 [==============================] - 3s 809us/step - loss: 0.2292 - val_loss: 0.2352\n",
      "Epoch 57/100\n",
      "3125/3125 [==============================] - 3s 817us/step - loss: 0.2273 - val_loss: 0.2329\n",
      "Epoch 58/100\n",
      "3125/3125 [==============================] - 3s 818us/step - loss: 0.2247 - val_loss: 0.2306\n",
      "Epoch 59/100\n",
      "3125/3125 [==============================] - 3s 832us/step - loss: 0.2226 - val_loss: 0.2283\n",
      "Epoch 60/100\n",
      "3125/3125 [==============================] - 3s 810us/step - loss: 0.2206 - val_loss: 0.2261\n",
      "Epoch 61/100\n",
      "3125/3125 [==============================] - 3s 806us/step - loss: 0.2182 - val_loss: 0.2239\n",
      "Epoch 62/100\n",
      "3125/3125 [==============================] - 3s 805us/step - loss: 0.2161 - val_loss: 0.2217\n",
      "Epoch 63/100\n",
      "3125/3125 [==============================] - 3s 812us/step - loss: 0.2133 - val_loss: 0.2195\n",
      "Epoch 64/100\n",
      "3125/3125 [==============================] - 3s 822us/step - loss: 0.2109 - val_loss: 0.2173\n",
      "Epoch 65/100\n",
      "3125/3125 [==============================] - 3s 810us/step - loss: 0.2087 - val_loss: 0.2151\n",
      "Epoch 66/100\n",
      "3125/3125 [==============================] - 3s 827us/step - loss: 0.2065 - val_loss: 0.2129\n",
      "Epoch 67/100\n",
      "3125/3125 [==============================] - 3s 813us/step - loss: 0.2046 - val_loss: 0.2107\n",
      "Epoch 68/100\n",
      "3125/3125 [==============================] - 3s 814us/step - loss: 0.2023 - val_loss: 0.2086\n",
      "Epoch 69/100\n",
      "3125/3125 [==============================] - 3s 825us/step - loss: 0.1995 - val_loss: 0.2064\n",
      "Epoch 70/100\n",
      "3125/3125 [==============================] - 3s 824us/step - loss: 0.1968 - val_loss: 0.2042\n",
      "Epoch 71/100\n",
      "3125/3125 [==============================] - 3s 808us/step - loss: 0.1954 - val_loss: 0.2021\n",
      "Epoch 72/100\n",
      "3125/3125 [==============================] - 3s 814us/step - loss: 0.1926 - val_loss: 0.2000\n",
      "Epoch 73/100\n",
      "3125/3125 [==============================] - 3s 813us/step - loss: 0.1898 - val_loss: 0.1978\n",
      "Epoch 74/100\n",
      "3125/3125 [==============================] - 3s 808us/step - loss: 0.1888 - val_loss: 0.1957\n",
      "Epoch 75/100\n",
      "3125/3125 [==============================] - 3s 805us/step - loss: 0.1860 - val_loss: 0.1936\n",
      "Epoch 76/100\n",
      "3125/3125 [==============================] - 3s 821us/step - loss: 0.1839 - val_loss: 0.1915\n",
      "Epoch 77/100\n",
      "3125/3125 [==============================] - 3s 810us/step - loss: 0.1820 - val_loss: 0.1894\n",
      "Epoch 78/100\n",
      "3125/3125 [==============================] - 3s 823us/step - loss: 0.1792 - val_loss: 0.1873\n",
      "Epoch 79/100\n",
      "3125/3125 [==============================] - 3s 887us/step - loss: 0.1770 - val_loss: 0.1852\n",
      "Epoch 80/100\n",
      "3125/3125 [==============================] - 3s 823us/step - loss: 0.1750 - val_loss: 0.1831\n",
      "Epoch 81/100\n",
      "3125/3125 [==============================] - 3s 820us/step - loss: 0.1729 - val_loss: 0.1810\n",
      "Epoch 82/100\n",
      "3125/3125 [==============================] - 3s 840us/step - loss: 0.1701 - val_loss: 0.1789\n",
      "Epoch 83/100\n",
      "3125/3125 [==============================] - 3s 811us/step - loss: 0.1684 - val_loss: 0.1769\n",
      "Epoch 84/100\n",
      "3125/3125 [==============================] - 3s 826us/step - loss: 0.1661 - val_loss: 0.1748\n",
      "Epoch 85/100\n",
      "3125/3125 [==============================] - 3s 910us/step - loss: 0.1640 - val_loss: 0.1728\n",
      "Epoch 86/100\n",
      "3125/3125 [==============================] - 3s 829us/step - loss: 0.1618 - val_loss: 0.1707\n",
      "Epoch 87/100\n",
      "3125/3125 [==============================] - 3s 811us/step - loss: 0.1597 - val_loss: 0.1687\n",
      "Epoch 88/100\n",
      "3125/3125 [==============================] - 3s 812us/step - loss: 0.1577 - val_loss: 0.1667\n",
      "Epoch 89/100\n",
      "3125/3125 [==============================] - 3s 814us/step - loss: 0.1552 - val_loss: 0.1646\n",
      "Epoch 90/100\n",
      "3125/3125 [==============================] - 3s 820us/step - loss: 0.1539 - val_loss: 0.1626\n",
      "Epoch 91/100\n",
      "3125/3125 [==============================] - 3s 802us/step - loss: 0.1512 - val_loss: 0.1606\n",
      "Epoch 92/100\n",
      "3125/3125 [==============================] - 3s 822us/step - loss: 0.1491 - val_loss: 0.1586\n",
      "Epoch 93/100\n",
      "3125/3125 [==============================] - 3s 814us/step - loss: 0.1467 - val_loss: 0.1566\n",
      "Epoch 94/100\n",
      "3125/3125 [==============================] - 3s 825us/step - loss: 0.1453 - val_loss: 0.1547\n",
      "Epoch 95/100\n",
      "3125/3125 [==============================] - 3s 804us/step - loss: 0.1432 - val_loss: 0.1527\n",
      "Epoch 96/100\n",
      "3125/3125 [==============================] - 3s 806us/step - loss: 0.1404 - val_loss: 0.1507\n",
      "Epoch 97/100\n",
      "3125/3125 [==============================] - 3s 826us/step - loss: 0.1391 - val_loss: 0.1488\n",
      "Epoch 98/100\n",
      "3125/3125 [==============================] - 3s 818us/step - loss: 0.1364 - val_loss: 0.1469\n",
      "Epoch 99/100\n",
      "3125/3125 [==============================] - 3s 804us/step - loss: 0.1343 - val_loss: 0.1449\n",
      "Epoch 100/100\n",
      "3125/3125 [==============================] - 3s 842us/step - loss: 0.1323 - val_loss: 0.1430\n"
     ]
    }
   ],
   "source": [
    "history = model.fit(features, features, epochs=100, batch_size=16, shuffle=True,validation_data=(features_test, features_test))"
   ]
  },
  {
   "cell_type": "code",
   "execution_count": 6,
   "metadata": {},
   "outputs": [
    {
     "data": {
      "image/png": "[encoded data removed]",
      "text/plain": [
       "<Figure size 432x288 with 1 Axes>"
      ]
     },
     "metadata": {
      "needs_background": "light"
     },
     "output_type": "display_data"
    }
   ],
   "source": [
    "import matplotlib.pyplot as plt\n",
    "plt.plot(history.history['loss'])\n",
    "plt.plot(history.history['val_loss'])\n",
    "plt.title('Denoising Autoencoder')\n",
    "plt.ylabel('loss')\n",
    "plt.xlabel('epoch')\n",
    "plt.legend(['train', 'test'], loc='upper left')\n",
    "plt.show()"
   ]
  },
  {
   "cell_type": "code",
   "execution_count": 8,
   "metadata": {},
   "outputs": [
    {
     "name": "stdout",
     "output_type": "stream",
     "text": [
      "WARNING:tensorflow:Compiled the loaded model, but the compiled metrics have yet to be built. `model.compile_metrics` will be empty until you train or evaluate the model.\n",
      "Model Saved!\n"
     ]
    }
   ],
   "source": [
    "encoder_model.save('model-ae/denoising-ae-encoder.h5')\n",
    "model.save('model-ae/denoising-ae-decoder.h5')\n",
    "print (\"Model Saved!\")"
   ]
  },
  {
   "cell_type": "code",
   "execution_count": null,
   "metadata": {},
   "outputs": [],
   "source": []
  }
 ],
 "metadata": {
  "kernelspec": {
   "display_name": "Python 3",
   "language": "python",
   "name": "python3"
  },
  "language_info": {
   "codemirror_mode": {
    "name": "ipython",
    "version": 3
   },
   "file_extension": ".py",
   "mimetype": "text/x-python",
   "name": "python",
   "nbconvert_exporter": "python",
   "pygments_lexer": "ipython3",
   "version": "3.7.6"
  }
 },
 "nbformat": 4,
 "nbformat_minor": 4
}
