{
 "cells": [
  {
   "cell_type": "code",
   "execution_count": 1,
   "metadata": {
    "collapsed": false
   },
   "outputs": [
    {
     "name": "stderr",
     "output_type": "stream",
     "text": [
      "Using TensorFlow backend.\n"
     ]
    }
   ],
   "source": [
    "from keras.layers import Input, Dense, Conv2D, MaxPooling2D, UpSampling2D, Flatten\n",
    "from keras.models import Model, load_model\n",
    "\n",
    "class ConvolutionalAutoencoder:\n",
    "    def __init__(self):\n",
    "        self.encoder_model = None\n",
    "        self.model = None\n",
    "        return\n",
    "    \n",
    "    def build(self, input_dims, opt):\n",
    "        input_layer = Input(shape=input_dims)\n",
    "        \n",
    "        conv_one = Conv2D(64, (3,3), activation='relu', padding='same') (input_layer)\n",
    "        conv_two = Conv2D(64, (3,3), activation='relu', padding='same') (input_layer)\n",
    "        pool_one = MaxPooling2D((2,2), padding='same') (conv_two)\n",
    "        \n",
    "        conv_three = Conv2D(32, (3,3), activation='relu', padding='same') (pool_one)\n",
    "        conv_four = Conv2D(32, (3,3), activation='relu', padding='same') (conv_three)\n",
    "        pool_two = MaxPooling2D((2,2), padding='same') (conv_four)\n",
    "        \n",
    "        conv_five = Conv2D(16, (3,3), activation='relu', padding='same') (pool_two)\n",
    "        conv_six = Conv2D(16, (3,3), activation='relu', padding='same') (conv_five)\n",
    "        pool_three = MaxPooling2D((2,2), padding='same') (conv_six)\n",
    "        \n",
    "        encoder_output = Flatten() (pool_three)\n",
    "        self.encoder_model = Model(input_layer, encoder_output)\n",
    "        \n",
    "        conv_seven = Conv2D(16, (3,3), activation='relu', padding='same') (pool_three)\n",
    "        conv_eight = Conv2D(16, (3,3), activation='relu', padding='same') (conv_seven)\n",
    "        upsamp_one = UpSampling2D((2,2)) (conv_eight)\n",
    "        \n",
    "        conv_nine = Conv2D(32, (3,3), activation='relu', padding='same') (upsamp_one)\n",
    "        conv_ten = Conv2D(32, (3,3), activation='relu', padding='same') (conv_nine)\n",
    "        upsamp_two = UpSampling2D((2,2)) (conv_ten)\n",
    "        \n",
    "        conv_eleven = Conv2D(64, (3,3), activation='relu', padding='same') (upsamp_two)\n",
    "        conv_twelve = Conv2D(64, (3,3), activation='relu', padding='same') (conv_eleven)\n",
    "        upsamp_three = UpSampling2D((2,2)) (conv_twelve)\n",
    "        decoder_output = Conv2D(3, (3,3), activation='sigmoid', padding='same') (upsamp_three)\n",
    "        \n",
    "        self.model = Model(input_layer, decoder_output)\n",
    "        self.model.compile(optimizer=opt, loss='binary_crossentropy')\n",
    "        \n",
    "        '''\n",
    "        conv_one = Conv2D(16, (3,3), activation='relu', padding='same') (input_layer)\n",
    "        pool_one = MaxPooling2D((2,2), padding='same') (conv_one)\n",
    "        conv_two = Conv2D(8, (3,3), activation='relu', padding='same') (pool_one)\n",
    "        pool_two = MaxPooling2D((2,2), padding='same') (conv_two)\n",
    "        conv_three = Conv2D(8, (3,3), activation='relu', padding='same') (pool_two)\n",
    "        encoder_output = MaxPooling2D((2,2), padding='same') (conv_three)\n",
    "        self.encoder_model = Model(input_layer, encoder_output)\n",
    "        \n",
    "        conv_four = Conv2D(8, (3,3), activation='relu', padding='same') (encoder_output)\n",
    "        upsamp_one = UpSampling2D((2,2)) (conv_four)\n",
    "        conv_five = Conv2D(8, (3,3), activation='relu', padding='same') (upsamp_one)\n",
    "        upsamp_two = UpSampling2D((2,2)) (conv_five)\n",
    "        conv_six = Conv2D(16, (3,3), activation='relu') (upsamp_two)\n",
    "        upsamp_three = UpSampling2D((2,2)) (conv_six)\n",
    "        decoder_output = Conv2D(1, (3,3), activation='sigmoid', padding='same') (upsamp_three)\n",
    "        self.model = Model(input_layer, decoder_output)\n",
    "        \n",
    "        self.model.compile(optimizer='adagrad', loss='binary_crossentropy')\n",
    "        '''\n",
    "        return\n",
    "    \n",
    "    def load(self, model_file, encoder_model_file):\n",
    "        self.encoder_model = load_model(encoder_model_file)\n",
    "        self.model = load_model(model_file)\n",
    "        return\n",
    "    \n",
    "    def train(self, train_input, train_output,\n",
    "             val_input, val_output,\n",
    "             epochs=50,\n",
    "             batch_size=64,\n",
    "             shuffle=True):\n",
    "        self.model.fit(train_input, train_output,\n",
    "                      epochs=epochs, batch_size=batch_size,\n",
    "                      shuffle=shuffle,\n",
    "                      validation_data=(val_input, val_output))\n",
    "        return\n",
    "    \n",
    "    def encoder_predict(self, test_input):\n",
    "        return self.encoder_model.predict(test_input)\n",
    "    \n",
    "    def predict(self, test_input):\n",
    "        return self.model.predict(test_input)\n",
    "    \n",
    "    def save(self, model_file, encoder_model_file):\n",
    "        self.model.save(model_file)\n",
    "        self.encoder_model.save(encoder_model_file)\n",
    "        return"
   ]
  },
  {
   "cell_type": "code",
   "execution_count": 9,
   "metadata": {
    "collapsed": true
   },
   "outputs": [],
   "source": [
    "from keras.datasets import cifar10\n",
    "from keras import optimizers\n",
    "import numpy as np\n",
    "\n",
    "(x_train, _), (x_test, _) = cifar10.load_data()"
   ]
  },
  {
   "cell_type": "code",
   "execution_count": 10,
   "metadata": {
    "collapsed": false
   },
   "outputs": [
    {
     "name": "stdout",
     "output_type": "stream",
     "text": [
      "(50000, 32, 32, 3)\n",
      "(10000, 32, 32, 3)\n"
     ]
    }
   ],
   "source": [
    "x_train = x_train.astype('float32') / 255\n",
    "x_test = x_test.astype('float32') / 255\n",
    "\n",
    "print x_train.shape\n",
    "print x_test.shape"
   ]
  },
  {
   "cell_type": "code",
   "execution_count": 11,
   "metadata": {
    "collapsed": false
   },
   "outputs": [
    {
     "name": "stdout",
     "output_type": "stream",
     "text": [
      "(50000, 32, 32, 3)\n"
     ]
    }
   ],
   "source": [
    "#x_train = x_train[:20000]\n",
    "print x_train.shape"
   ]
  },
  {
   "cell_type": "code",
   "execution_count": 12,
   "metadata": {
    "collapsed": true
   },
   "outputs": [],
   "source": [
    "autoencoder = ConvolutionalAutoencoder()\n",
    "opt = optimizers.adam(lr=0.001, decay=0.)\n",
    "autoencoder.build((32, 32, 3, ), opt)"
   ]
  },
  {
   "cell_type": "code",
   "execution_count": 13,
   "metadata": {
    "collapsed": false
   },
   "outputs": [
    {
     "name": "stdout",
     "output_type": "stream",
     "text": [
      "Train on 50000 samples, validate on 10000 samples\n",
      "Epoch 1/40\n",
      "50000/50000 [==============================] - 66s - loss: 0.6007 - val_loss: 0.5830\n",
      "Epoch 2/40\n",
      "50000/50000 [==============================] - 66s - loss: 0.5793 - val_loss: 0.5769\n",
      "Epoch 3/40\n",
      "50000/50000 [==============================] - 66s - loss: 0.5755 - val_loss: 0.5741\n",
      "Epoch 4/40\n",
      "50000/50000 [==============================] - 66s - loss: 0.5730 - val_loss: 0.5732\n",
      "Epoch 5/40\n",
      "50000/50000 [==============================] - 66s - loss: 0.5717 - val_loss: 0.5717\n",
      "Epoch 6/40\n",
      "50000/50000 [==============================] - 66s - loss: 0.5705 - val_loss: 0.5706\n",
      "Epoch 7/40\n",
      "50000/50000 [==============================] - 66s - loss: 0.5692 - val_loss: 0.5713\n",
      "Epoch 8/40\n",
      "50000/50000 [==============================] - 66s - loss: 0.5685 - val_loss: 0.5685\n",
      "Epoch 9/40\n",
      "50000/50000 [==============================] - 66s - loss: 0.5678 - val_loss: 0.5678\n",
      "Epoch 10/40\n",
      "50000/50000 [==============================] - 66s - loss: 0.5671 - val_loss: 0.5673\n",
      "Epoch 11/40\n",
      "50000/50000 [==============================] - 66s - loss: 0.5667 - val_loss: 0.5673\n",
      "Epoch 12/40\n",
      "50000/50000 [==============================] - 66s - loss: 0.5661 - val_loss: 0.5672\n",
      "Epoch 13/40\n",
      "50000/50000 [==============================] - 66s - loss: 0.5656 - val_loss: 0.5673\n",
      "Epoch 14/40\n",
      "50000/50000 [==============================] - 66s - loss: 0.5650 - val_loss: 0.5664\n",
      "Epoch 15/40\n",
      "50000/50000 [==============================] - 66s - loss: 0.5644 - val_loss: 0.5659\n",
      "Epoch 16/40\n",
      "50000/50000 [==============================] - 66s - loss: 0.5640 - val_loss: 0.5647\n",
      "Epoch 17/40\n",
      "50000/50000 [==============================] - 67s - loss: 0.5636 - val_loss: 0.5648\n",
      "Epoch 18/40\n",
      "50000/50000 [==============================] - 67s - loss: 0.5632 - val_loss: 0.5659\n",
      "Epoch 19/40\n",
      "50000/50000 [==============================] - 67s - loss: 0.5629 - val_loss: 0.5642\n",
      "Epoch 20/40\n",
      "50000/50000 [==============================] - 67s - loss: 0.5626 - val_loss: 0.5638\n",
      "Epoch 21/40\n",
      "50000/50000 [==============================] - 67s - loss: 0.5623 - val_loss: 0.5631\n",
      "Epoch 22/40\n",
      "50000/50000 [==============================] - 67s - loss: 0.5620 - val_loss: 0.5628\n",
      "Epoch 23/40\n",
      "50000/50000 [==============================] - 66s - loss: 0.5618 - val_loss: 0.5624\n",
      "Epoch 24/40\n",
      "50000/50000 [==============================] - 66s - loss: 0.5617 - val_loss: 0.5622\n",
      "Epoch 25/40\n",
      "50000/50000 [==============================] - 66s - loss: 0.5615 - val_loss: 0.5621\n",
      "Epoch 26/40\n",
      "50000/50000 [==============================] - 66s - loss: 0.5613 - val_loss: 0.5622\n",
      "Epoch 27/40\n",
      "50000/50000 [==============================] - 66s - loss: 0.5611 - val_loss: 0.5617\n",
      "Epoch 28/40\n",
      "50000/50000 [==============================] - 66s - loss: 0.5610 - val_loss: 0.5618\n",
      "Epoch 29/40\n",
      "50000/50000 [==============================] - 67s - loss: 0.5607 - val_loss: 0.5618\n",
      "Epoch 30/40\n",
      "50000/50000 [==============================] - 66s - loss: 0.5606 - val_loss: 0.5618\n",
      "Epoch 31/40\n",
      "50000/50000 [==============================] - 67s - loss: 0.5605 - val_loss: 0.5612\n",
      "Epoch 32/40\n",
      "50000/50000 [==============================] - 66s - loss: 0.5604 - val_loss: 0.5609\n",
      "Epoch 33/40\n",
      "50000/50000 [==============================] - 66s - loss: 0.5603 - val_loss: 0.5608\n",
      "Epoch 34/40\n",
      "50000/50000 [==============================] - 66s - loss: 0.5601 - val_loss: 0.5611\n",
      "Epoch 35/40\n",
      "50000/50000 [==============================] - 66s - loss: 0.5599 - val_loss: 0.5610\n",
      "Epoch 36/40\n",
      "50000/50000 [==============================] - 66s - loss: 0.5598 - val_loss: 0.5606\n",
      "Epoch 37/40\n",
      "50000/50000 [==============================] - 66s - loss: 0.5597 - val_loss: 0.5722\n",
      "Epoch 38/40\n",
      "50000/50000 [==============================] - 66s - loss: 0.5598 - val_loss: 0.5601\n",
      "Epoch 39/40\n",
      "50000/50000 [==============================] - 66s - loss: 0.5595 - val_loss: 0.5603\n",
      "Epoch 40/40\n",
      "50000/50000 [==============================] - 66s - loss: 0.5593 - val_loss: 0.5607\n"
     ]
    }
   ],
   "source": [
    "autoencoder.train(x_train, x_train, x_test, x_test,\n",
    "                 epochs=40,\n",
    "                 batch_size=64,\n",
    "                 shuffle=True)"
   ]
  },
  {
   "cell_type": "code",
   "execution_count": 14,
   "metadata": {
    "collapsed": true
   },
   "outputs": [],
   "source": [
    "pred_train = autoencoder.predict(x_test)"
   ]
  },
  {
   "cell_type": "code",
   "execution_count": 15,
   "metadata": {
    "collapsed": false
   },
   "outputs": [
    {
     "data": {
      "image/png": "[encoded data removed]",
      "text/plain": [
       "<matplotlib.figure.Figure at 0x7fcdb55e3fd0>"
      ]
     },
     "metadata": {},
     "output_type": "display_data"
    }
   ],
   "source": [
    "import matplotlib.pyplot as plt\n",
    "\n",
    "plt.figure(figsize=(10,4))\n",
    "for i in range(5):\n",
    "    ax = plt.subplot(2, 5, i+1)\n",
    "    plt.imshow(x_test[i])\n",
    "    ax.get_xaxis().set_visible(False)\n",
    "    ax.get_yaxis().set_visible(False)\n",
    "    \n",
    "    ax = plt.subplot(2, 5, i+1+5)\n",
    "    plt.imshow(pred_train[i].reshape(32,32,3))\n",
    "    ax.get_xaxis().set_visible(False)\n",
    "    ax.get_yaxis().set_visible(False)\n",
    "\n",
    "plt.show()"
   ]
  },
  {
   "cell_type": "code",
   "execution_count": 16,
   "metadata": {
    "collapsed": false
   },
   "outputs": [
    {
     "name": "stdout",
     "output_type": "stream",
     "text": [
      "Saved!\n"
     ]
    }
   ],
   "source": [
    "autoencoder.model.save('cifar-autoencoder-model.h5')\n",
    "autoencoder.encoder_model.save('cifar-autoencoder-encoder-model.h5')\n",
    "print \"Saved!\""
   ]
  },
  {
   "cell_type": "code",
   "execution_count": null,
   "metadata": {
    "collapsed": true
   },
   "outputs": [],
   "source": []
  }
 ],
 "metadata": {
  "anaconda-cloud": {},
  "kernelspec": {
   "display_name": "Python [default]",
   "language": "python",
   "name": "python2"
  },
  "language_info": {
   "codemirror_mode": {
    "name": "ipython",
    "version": 2
   },
   "file_extension": ".py",
   "mimetype": "text/x-python",
   "name": "python",
   "nbconvert_exporter": "python",
   "pygments_lexer": "ipython2",
   "version": "2.7.12"
  }
 },
 "nbformat": 4,
 "nbformat_minor": 2
}
