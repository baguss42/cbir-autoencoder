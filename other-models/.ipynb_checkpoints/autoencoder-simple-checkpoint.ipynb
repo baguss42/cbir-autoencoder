{
 "cells": [
  {
   "cell_type": "code",
   "execution_count": 6,
   "metadata": {
    "collapsed": true
   },
   "outputs": [],
   "source": [
    "from keras.layers import Input, Dense\n",
    "from keras.models import Model, load_model\n",
    "\n",
    "class SimpleAutoencoder:\n",
    "    def __init__(self):\n",
    "        self.encoder_model = None\n",
    "        self.model = None\n",
    "        return\n",
    "    \n",
    "    def build(self, input_dim, encoding_dim):\n",
    "        input_layer = Input(shape=(input_dim,))\n",
    "        encoder_output = Dense(encoding_dim, activation='relu') (input_layer)\n",
    "        self.encoder_model = Model(input_layer, encoder_output)\n",
    "        decoder_output = Dense(input_dim, activation='sigmoid') (encoder_output)\n",
    "        self.model = Model(input_layer, decoder_output)\n",
    "        self.model.compile(optimizer='adadelta', loss='binary_crossentropy')\n",
    "        return\n",
    "    \n",
    "    def load(self, model_file, encoder_model_file):\n",
    "        self.encoder_model = load_model(encoder_model_file)\n",
    "        self.model = load_model(model_file)\n",
    "        return\n",
    "    \n",
    "    def train(self, train_input, train_output,\n",
    "             val_input, val_output,\n",
    "             epochs=50,\n",
    "             batch_size=256,\n",
    "             shuffle=True):\n",
    "        self.model.fit(train_input, train_output,\n",
    "                      epochs=epochs, batch_size=batch_size,\n",
    "                      shuffle=shuffle,\n",
    "                      validation_data=(val_input, val_output))\n",
    "        return\n",
    "    \n",
    "    def encoder_predict(self, test_input):\n",
    "        return self.encoder_model.predict(test_input)\n",
    "    \n",
    "    def predict(self, test_input):\n",
    "        return self.model.predict(test_input)\n",
    "    \n",
    "    def save(self, model_file, encoder_model_file):\n",
    "        self.model.save(model_file)\n",
    "        self.encoder_model.save(encoder_model_file)\n",
    "        return"
   ]
  },
  {
   "cell_type": "code",
   "execution_count": 11,
   "metadata": {
    "collapsed": true
   },
   "outputs": [],
   "source": [
    "from keras.datasets import mnist\n",
    "import numpy as np\n",
    "\n",
    "(x_train, _), (x_test, _) = mnist.load_data()"
   ]
  },
  {
   "cell_type": "code",
   "execution_count": 12,
   "metadata": {
    "collapsed": false
   },
   "outputs": [
    {
     "name": "stdout",
     "output_type": "stream",
     "text": [
      "(60000, 784)\n",
      "(10000, 784)\n"
     ]
    }
   ],
   "source": [
    "x_train = x_train.astype('float32') / 255\n",
    "x_test = x_test.astype('float32') / 255\n",
    "\n",
    "x_train = x_train.reshape((len(x_train), np.prod(x_train.shape[1:])))\n",
    "x_test = x_test.reshape((len(x_test), np.prod(x_test.shape[1:])))\n",
    "\n",
    "print x_train.shape\n",
    "print x_test.shape"
   ]
  },
  {
   "cell_type": "code",
   "execution_count": 13,
   "metadata": {
    "collapsed": true
   },
   "outputs": [],
   "source": [
    "autoencoder = SimpleAutoencoder()\n",
    "autoencoder.build(784, 32)"
   ]
  },
  {
   "cell_type": "code",
   "execution_count": 14,
   "metadata": {
    "collapsed": false
   },
   "outputs": [
    {
     "name": "stdout",
     "output_type": "stream",
     "text": [
      "Train on 60000 samples, validate on 10000 samples\n",
      "Epoch 1/50\n",
      "60000/60000 [==============================] - 96s - loss: 0.3879 - val_loss: 0.2725\n",
      "Epoch 2/50\n",
      "60000/60000 [==============================] - 2s - loss: 0.2645 - val_loss: 0.2533\n",
      "Epoch 3/50\n",
      "60000/60000 [==============================] - 2s - loss: 0.2443 - val_loss: 0.2327\n",
      "Epoch 4/50\n",
      "60000/60000 [==============================] - 2s - loss: 0.2253 - val_loss: 0.2152\n",
      "Epoch 5/50\n",
      "60000/60000 [==============================] - 2s - loss: 0.2101 - val_loss: 0.2025\n",
      "Epoch 6/50\n",
      "60000/60000 [==============================] - 2s - loss: 0.1992 - val_loss: 0.1933\n",
      "Epoch 7/50\n",
      "60000/60000 [==============================] - 2s - loss: 0.1909 - val_loss: 0.1858\n",
      "Epoch 8/50\n",
      "60000/60000 [==============================] - 2s - loss: 0.1840 - val_loss: 0.1795\n",
      "Epoch 9/50\n",
      "60000/60000 [==============================] - 2s - loss: 0.1781 - val_loss: 0.1741\n",
      "Epoch 10/50\n",
      "60000/60000 [==============================] - 2s - loss: 0.1729 - val_loss: 0.1692\n",
      "Epoch 11/50\n",
      "60000/60000 [==============================] - 2s - loss: 0.1683 - val_loss: 0.1648\n",
      "Epoch 12/50\n",
      "60000/60000 [==============================] - 2s - loss: 0.1641 - val_loss: 0.1608\n",
      "Epoch 13/50\n",
      "60000/60000 [==============================] - 2s - loss: 0.1604 - val_loss: 0.1574\n",
      "Epoch 14/50\n",
      "60000/60000 [==============================] - 2s - loss: 0.1571 - val_loss: 0.1540\n",
      "Epoch 15/50\n",
      "60000/60000 [==============================] - 2s - loss: 0.1540 - val_loss: 0.1511\n",
      "Epoch 16/50\n",
      "60000/60000 [==============================] - 2s - loss: 0.1511 - val_loss: 0.1483\n",
      "Epoch 17/50\n",
      "60000/60000 [==============================] - 2s - loss: 0.1485 - val_loss: 0.1458\n",
      "Epoch 18/50\n",
      "60000/60000 [==============================] - 2s - loss: 0.1460 - val_loss: 0.1433\n",
      "Epoch 19/50\n",
      "60000/60000 [==============================] - 2s - loss: 0.1436 - val_loss: 0.1409\n",
      "Epoch 20/50\n",
      "60000/60000 [==============================] - 2s - loss: 0.1413 - val_loss: 0.1389\n",
      "Epoch 21/50\n",
      "60000/60000 [==============================] - 2s - loss: 0.1391 - val_loss: 0.1366\n",
      "Epoch 22/50\n",
      "60000/60000 [==============================] - 2s - loss: 0.1370 - val_loss: 0.1346\n",
      "Epoch 23/50\n",
      "60000/60000 [==============================] - 2s - loss: 0.1350 - val_loss: 0.1325\n",
      "Epoch 24/50\n",
      "60000/60000 [==============================] - 2s - loss: 0.1331 - val_loss: 0.1307\n",
      "Epoch 25/50\n",
      "60000/60000 [==============================] - 2s - loss: 0.1312 - val_loss: 0.1289\n",
      "Epoch 26/50\n",
      "60000/60000 [==============================] - 2s - loss: 0.1295 - val_loss: 0.1272\n",
      "Epoch 27/50\n",
      "60000/60000 [==============================] - 2s - loss: 0.1278 - val_loss: 0.1255\n",
      "Epoch 28/50\n",
      "60000/60000 [==============================] - 2s - loss: 0.1262 - val_loss: 0.1240\n",
      "Epoch 29/50\n",
      "60000/60000 [==============================] - 2s - loss: 0.1247 - val_loss: 0.1225\n",
      "Epoch 30/50\n",
      "60000/60000 [==============================] - 2s - loss: 0.1233 - val_loss: 0.1211\n",
      "Epoch 31/50\n",
      "60000/60000 [==============================] - 2s - loss: 0.1219 - val_loss: 0.1198\n",
      "Epoch 32/50\n",
      "60000/60000 [==============================] - 2s - loss: 0.1206 - val_loss: 0.1185\n",
      "Epoch 33/50\n",
      "60000/60000 [==============================] - 2s - loss: 0.1194 - val_loss: 0.1173\n",
      "Epoch 34/50\n",
      "60000/60000 [==============================] - 2s - loss: 0.1182 - val_loss: 0.1162\n",
      "Epoch 35/50\n",
      "60000/60000 [==============================] - 2s - loss: 0.1171 - val_loss: 0.1151\n",
      "Epoch 36/50\n",
      "60000/60000 [==============================] - 2s - loss: 0.1161 - val_loss: 0.1141\n",
      "Epoch 37/50\n",
      "60000/60000 [==============================] - 2s - loss: 0.1151 - val_loss: 0.1131\n",
      "Epoch 38/50\n",
      "60000/60000 [==============================] - 2s - loss: 0.1142 - val_loss: 0.1122\n",
      "Epoch 39/50\n",
      "60000/60000 [==============================] - 2s - loss: 0.1133 - val_loss: 0.1114\n",
      "Epoch 40/50\n",
      "60000/60000 [==============================] - 2s - loss: 0.1125 - val_loss: 0.1106\n",
      "Epoch 41/50\n",
      "60000/60000 [==============================] - 2s - loss: 0.1117 - val_loss: 0.1098\n",
      "Epoch 42/50\n",
      "60000/60000 [==============================] - 2s - loss: 0.1110 - val_loss: 0.1091\n",
      "Epoch 43/50\n",
      "60000/60000 [==============================] - 2s - loss: 0.1104 - val_loss: 0.1085\n",
      "Epoch 44/50\n",
      "60000/60000 [==============================] - 2s - loss: 0.1097 - val_loss: 0.1078\n",
      "Epoch 45/50\n",
      "60000/60000 [==============================] - 2s - loss: 0.1091 - val_loss: 0.1072\n",
      "Epoch 46/50\n",
      "60000/60000 [==============================] - 2s - loss: 0.1085 - val_loss: 0.1067\n",
      "Epoch 47/50\n",
      "60000/60000 [==============================] - 2s - loss: 0.1080 - val_loss: 0.1062\n",
      "Epoch 48/50\n",
      "60000/60000 [==============================] - 2s - loss: 0.1075 - val_loss: 0.1057\n",
      "Epoch 49/50\n",
      "60000/60000 [==============================] - 2s - loss: 0.1070 - val_loss: 0.1052\n",
      "Epoch 50/50\n",
      "60000/60000 [==============================] - 2s - loss: 0.1066 - val_loss: 0.1048\n"
     ]
    }
   ],
   "source": [
    "autoencoder.train(x_train, x_train, x_test, x_test,\n",
    "                 epochs=50,\n",
    "                 batch_size=256,\n",
    "                 shuffle=True)"
   ]
  },
  {
   "cell_type": "code",
   "execution_count": 15,
   "metadata": {
    "collapsed": true
   },
   "outputs": [],
   "source": [
    "pred_train = autoencoder.predict(x_test)"
   ]
  },
  {
   "cell_type": "code",
   "execution_count": 18,
   "metadata": {
    "collapsed": false
   },
   "outputs": [
    {
     "data": {
      "image/png": "[encoded data removed]",
      "text/plain": [
       "<matplotlib.figure.Figure at 0x7ff055b21c50>"
      ]
     },
     "metadata": {},
     "output_type": "display_data"
    },
    {
     "data": {
      "image/png": "[encoded data removed]",
      "text/plain": [
       "<matplotlib.figure.Figure at 0x7ff0086edc90>"
      ]
     },
     "metadata": {},
     "output_type": "display_data"
    }
   ],
   "source": [
    "import matplotlib.pyplot as plt\n",
    "\n",
    "plt.figure(figsize=(10,4))\n",
    "for i in range(5):\n",
    "    ax = plt.subplot(2, 5, i+1)\n",
    "    plt.imshow(x_test[i].reshape(28,28))\n",
    "    plt.gray()\n",
    "    ax.get_xaxis().set_visible(False)\n",
    "    ax.get_yaxis().set_visible(False)\n",
    "    \n",
    "    ax = plt.subplot(2, 5, i+1+5)\n",
    "    plt.imshow(pred_train[i].reshape(28,28))\n",
    "    plt.gray()\n",
    "    ax.get_xaxis().set_visible(False)\n",
    "    ax.get_yaxis().set_visible(False)\n",
    "\n",
    "plt.show()"
   ]
  },
  {
   "cell_type": "code",
   "execution_count": null,
   "metadata": {
    "collapsed": true
   },
   "outputs": [],
   "source": []
  }
 ],
 "metadata": {
  "anaconda-cloud": {},
  "kernelspec": {
   "display_name": "Python [default]",
   "language": "python",
   "name": "python2"
  },
  "language_info": {
   "codemirror_mode": {
    "name": "ipython",
    "version": 2
   },
   "file_extension": ".py",
   "mimetype": "text/x-python",
   "name": "python",
   "nbconvert_exporter": "python",
   "pygments_lexer": "ipython2",
   "version": "2.7.12"
  }
 },
 "nbformat": 4,
 "nbformat_minor": 2
}
