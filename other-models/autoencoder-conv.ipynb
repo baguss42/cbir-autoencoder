{
 "cells": [
  {
   "cell_type": "code",
   "execution_count": 8,
   "metadata": {
    "collapsed": true
   },
   "outputs": [],
   "source": [
    "from keras.layers import Input, Dense, Conv2D, MaxPooling2D, UpSampling2D\n",
    "from keras.models import Model, load_model\n",
    "\n",
    "class ConvolutionalAutoencoder:\n",
    "    def __init__(self):\n",
    "        self.encoder_model = None\n",
    "        self.model = None\n",
    "        return\n",
    "    \n",
    "    def build(self, input_dims, encoding_dim):\n",
    "        input_layer = Input(shape=input_dims)\n",
    "        \n",
    "        conv_one = Conv2D(16, (3,3), activation='relu', padding='same') (input_layer)\n",
    "        pool_one = MaxPooling2D((2,2), padding='same') (conv_one)\n",
    "        conv_two = Conv2D(8, (3,3), activation='relu', padding='same') (pool_one)\n",
    "        pool_two = MaxPooling2D((2,2), padding='same') (conv_two)\n",
    "        conv_three = Conv2D(8, (3,3), activation='relu', padding='same') (pool_two)\n",
    "        encoder_output = MaxPooling2D((2,2), padding='same') (conv_three)\n",
    "        self.encoder_model = Model(input_layer, encoder_output)\n",
    "        \n",
    "        conv_four = Conv2D(8, (3,3), activation='relu', padding='same') (encoder_output)\n",
    "        upsamp_one = UpSampling2D((2,2)) (conv_four)\n",
    "        conv_five = Conv2D(8, (3,3), activation='relu', padding='same') (upsamp_one)\n",
    "        upsamp_two = UpSampling2D((2,2)) (conv_five)\n",
    "        conv_six = Conv2D(16, (3,3), activation='relu') (upsamp_two)\n",
    "        upsamp_three = UpSampling2D((2,2)) (conv_six)\n",
    "        decoder_output = Conv2D(1, (3,3), activation='sigmoid', padding='same') (upsamp_three)\n",
    "        self.model = Model(input_layer, decoder_output)\n",
    "        \n",
    "        self.model.compile(optimizer='adagrad', loss='binary_crossentropy')\n",
    "        return\n",
    "    \n",
    "    def load(self, model_file, encoder_model_file):\n",
    "        self.encoder_model = load_model(encoder_model_file)\n",
    "        self.model = load_model(model_file)\n",
    "        return\n",
    "    \n",
    "    def train(self, train_input, train_output,\n",
    "             val_input, val_output,\n",
    "             epochs=50,\n",
    "             batch_size=256,\n",
    "             shuffle=True):\n",
    "        self.model.fit(train_input, train_output,\n",
    "                      epochs=epochs, batch_size=batch_size,\n",
    "                      shuffle=shuffle,\n",
    "                      validation_data=(val_input, val_output))\n",
    "        return\n",
    "    \n",
    "    def encoder_predict(self, test_input):\n",
    "        return self.encoder_model.predict(test_input)\n",
    "    \n",
    "    def predict(self, test_input):\n",
    "        return self.model.predict(test_input)\n",
    "    \n",
    "    def save(self, model_file, encoder_model_file):\n",
    "        self.model.save(model_file)\n",
    "        self.encoder_model.save(encoder_model_file)\n",
    "        return"
   ]
  },
  {
   "cell_type": "code",
   "execution_count": 9,
   "metadata": {
    "collapsed": true
   },
   "outputs": [],
   "source": [
    "from keras.datasets import mnist\n",
    "import numpy as np\n",
    "\n",
    "(x_train, _), (x_test, _) = mnist.load_data()"
   ]
  },
  {
   "cell_type": "code",
   "execution_count": 10,
   "metadata": {
    "collapsed": false
   },
   "outputs": [
    {
     "name": "stdout",
     "output_type": "stream",
     "text": [
      "(60000, 28, 28, 1)\n",
      "(10000, 28, 28, 1)\n"
     ]
    }
   ],
   "source": [
    "x_train = x_train.astype('float32') / 255\n",
    "x_test = x_test.astype('float32') / 255\n",
    "\n",
    "x_train = np.reshape(x_train, (len(x_train), 28, 28, 1))\n",
    "x_test = np.reshape(x_test, (len(x_test), 28, 28, 1))\n",
    "\n",
    "print x_train.shape\n",
    "print x_test.shape"
   ]
  },
  {
   "cell_type": "code",
   "execution_count": 11,
   "metadata": {
    "collapsed": true
   },
   "outputs": [],
   "source": [
    "autoencoder = ConvolutionalAutoencoder()\n",
    "autoencoder.build((28, 28, 1, ), 32)"
   ]
  },
  {
   "cell_type": "code",
   "execution_count": 12,
   "metadata": {
    "collapsed": false
   },
   "outputs": [
    {
     "name": "stdout",
     "output_type": "stream",
     "text": [
      "Train on 60000 samples, validate on 10000 samples\n",
      "Epoch 1/50\n",
      "60000/60000 [==============================] - 26s - loss: 0.2233 - val_loss: 0.1799\n",
      "Epoch 2/50\n",
      "60000/60000 [==============================] - 22s - loss: 0.1716 - val_loss: 0.1646\n",
      "Epoch 3/50\n",
      "60000/60000 [==============================] - 21s - loss: 0.1594 - val_loss: 0.1551\n",
      "Epoch 4/50\n",
      "60000/60000 [==============================] - 20s - loss: 0.1520 - val_loss: 0.1500\n",
      "Epoch 5/50\n",
      "60000/60000 [==============================] - 20s - loss: 0.1466 - val_loss: 0.1423\n",
      "Epoch 6/50\n",
      "60000/60000 [==============================] - 20s - loss: 0.1423 - val_loss: 0.1389\n",
      "Epoch 7/50\n",
      "60000/60000 [==============================] - 20s - loss: 0.1391 - val_loss: 0.1374\n",
      "Epoch 8/50\n",
      "60000/60000 [==============================] - 20s - loss: 0.1365 - val_loss: 0.1337\n",
      "Epoch 9/50\n",
      "60000/60000 [==============================] - 21s - loss: 0.1345 - val_loss: 0.1333\n",
      "Epoch 10/50\n",
      "60000/60000 [==============================] - 20s - loss: 0.1328 - val_loss: 0.1312\n",
      "Epoch 11/50\n",
      "60000/60000 [==============================] - 20s - loss: 0.1312 - val_loss: 0.1292\n",
      "Epoch 12/50\n",
      "60000/60000 [==============================] - 21s - loss: 0.1299 - val_loss: 0.1279\n",
      "Epoch 13/50\n",
      "60000/60000 [==============================] - 20s - loss: 0.1289 - val_loss: 0.1267\n",
      "Epoch 14/50\n",
      "60000/60000 [==============================] - 21s - loss: 0.1277 - val_loss: 0.1258\n",
      "Epoch 15/50\n",
      "60000/60000 [==============================] - 20s - loss: 0.1268 - val_loss: 0.1248\n",
      "Epoch 16/50\n",
      "60000/60000 [==============================] - 21s - loss: 0.1259 - val_loss: 0.1241\n",
      "Epoch 17/50\n",
      "60000/60000 [==============================] - 21s - loss: 0.1250 - val_loss: 0.1237\n",
      "Epoch 18/50\n",
      "60000/60000 [==============================] - 22s - loss: 0.1244 - val_loss: 0.1226\n",
      "Epoch 19/50\n",
      "60000/60000 [==============================] - 22s - loss: 0.1237 - val_loss: 0.1219\n",
      "Epoch 20/50\n",
      "60000/60000 [==============================] - 22s - loss: 0.1230 - val_loss: 0.1212\n",
      "Epoch 21/50\n",
      "60000/60000 [==============================] - 20s - loss: 0.1223 - val_loss: 0.1206\n",
      "Epoch 22/50\n",
      "60000/60000 [==============================] - 21s - loss: 0.1217 - val_loss: 0.1207\n",
      "Epoch 23/50\n",
      "60000/60000 [==============================] - 23s - loss: 0.1212 - val_loss: 0.1198\n",
      "Epoch 24/50\n",
      "60000/60000 [==============================] - 21s - loss: 0.1207 - val_loss: 0.1192\n",
      "Epoch 25/50\n",
      "60000/60000 [==============================] - 20s - loss: 0.1201 - val_loss: 0.1186\n",
      "Epoch 26/50\n",
      "60000/60000 [==============================] - 21s - loss: 0.1196 - val_loss: 0.1180\n",
      "Epoch 27/50\n",
      "60000/60000 [==============================] - 20s - loss: 0.1192 - val_loss: 0.1175\n",
      "Epoch 28/50\n",
      "60000/60000 [==============================] - 22s - loss: 0.1187 - val_loss: 0.1173\n",
      "Epoch 29/50\n",
      "60000/60000 [==============================] - 21s - loss: 0.1183 - val_loss: 0.1168\n",
      "Epoch 30/50\n",
      "60000/60000 [==============================] - 22s - loss: 0.1179 - val_loss: 0.1167\n",
      "Epoch 31/50\n",
      "60000/60000 [==============================] - 21s - loss: 0.1174 - val_loss: 0.1160\n",
      "Epoch 32/50\n",
      "60000/60000 [==============================] - 20s - loss: 0.1170 - val_loss: 0.1156\n",
      "Epoch 33/50\n",
      "60000/60000 [==============================] - 21s - loss: 0.1166 - val_loss: 0.1151\n",
      "Epoch 34/50\n",
      "60000/60000 [==============================] - 22s - loss: 0.1163 - val_loss: 0.1148\n",
      "Epoch 35/50\n",
      "60000/60000 [==============================] - 20s - loss: 0.1160 - val_loss: 0.1144\n",
      "Epoch 36/50\n",
      "60000/60000 [==============================] - 22s - loss: 0.1157 - val_loss: 0.1141\n",
      "Epoch 37/50\n",
      "60000/60000 [==============================] - 23s - loss: 0.1153 - val_loss: 0.1141\n",
      "Epoch 38/50\n",
      "60000/60000 [==============================] - 23s - loss: 0.1150 - val_loss: 0.1135\n",
      "Epoch 39/50\n",
      "60000/60000 [==============================] - 24s - loss: 0.1147 - val_loss: 0.1132\n",
      "Epoch 40/50\n",
      "60000/60000 [==============================] - 25s - loss: 0.1145 - val_loss: 0.1129\n",
      "Epoch 41/50\n",
      "60000/60000 [==============================] - 23s - loss: 0.1141 - val_loss: 0.1126\n",
      "Epoch 42/50\n",
      "60000/60000 [==============================] - 22s - loss: 0.1138 - val_loss: 0.1124\n",
      "Epoch 43/50\n",
      "60000/60000 [==============================] - 21s - loss: 0.1136 - val_loss: 0.1121\n",
      "Epoch 44/50\n",
      "60000/60000 [==============================] - 22s - loss: 0.1134 - val_loss: 0.1119\n",
      "Epoch 45/50\n",
      "60000/60000 [==============================] - 22s - loss: 0.1131 - val_loss: 0.1116\n",
      "Epoch 46/50\n",
      "60000/60000 [==============================] - 22s - loss: 0.1129 - val_loss: 0.1114\n",
      "Epoch 47/50\n",
      "60000/60000 [==============================] - 21s - loss: 0.1126 - val_loss: 0.1113\n",
      "Epoch 48/50\n",
      "60000/60000 [==============================] - 21s - loss: 0.1124 - val_loss: 0.1109\n",
      "Epoch 49/50\n",
      "60000/60000 [==============================] - 21s - loss: 0.1121 - val_loss: 0.1113\n",
      "Epoch 50/50\n",
      "60000/60000 [==============================] - 21s - loss: 0.1119 - val_loss: 0.1105\n"
     ]
    }
   ],
   "source": [
    "autoencoder.train(x_train, x_train, x_test, x_test,\n",
    "                 epochs=50,\n",
    "                 batch_size=256,\n",
    "                 shuffle=True)"
   ]
  },
  {
   "cell_type": "code",
   "execution_count": 13,
   "metadata": {
    "collapsed": true
   },
   "outputs": [],
   "source": [
    "pred_train = autoencoder.predict(x_test)"
   ]
  },
  {
   "cell_type": "code",
   "execution_count": 14,
   "metadata": {
    "collapsed": false
   },
   "outputs": [
    {
     "data": {
      "image/png": "[encoded data removed]",
      "text/plain": [
       "<matplotlib.figure.Figure at 0x7f54dffbcbd0>"
      ]
     },
     "metadata": {},
     "output_type": "display_data"
    }
   ],
   "source": [
    "import matplotlib.pyplot as plt\n",
    "\n",
    "plt.figure(figsize=(10,4))\n",
    "for i in range(5):\n",
    "    ax = plt.subplot(2, 5, i+1)\n",
    "    plt.imshow(x_test[i].reshape(28,28))\n",
    "    plt.gray()\n",
    "    ax.get_xaxis().set_visible(False)\n",
    "    ax.get_yaxis().set_visible(False)\n",
    "    \n",
    "    ax = plt.subplot(2, 5, i+1+5)\n",
    "    plt.imshow(pred_train[i].reshape(28,28))\n",
    "    plt.gray()\n",
    "    ax.get_xaxis().set_visible(False)\n",
    "    ax.get_yaxis().set_visible(False)\n",
    "\n",
    "plt.show()"
   ]
  },
  {
   "cell_type": "code",
   "execution_count": 15,
   "metadata": {
    "collapsed": false
   },
   "outputs": [
    {
     "name": "stdout",
     "output_type": "stream",
     "text": [
      "Saved!\n"
     ]
    }
   ],
   "source": [
    "autoencoder.model.save('conv-autoencoder-model.h5')\n",
    "autoencoder.encoder_model.save('conv-autoencoder-encoder-model.h5')\n",
    "print \"Saved!\""
   ]
  },
  {
   "cell_type": "code",
   "execution_count": null,
   "metadata": {
    "collapsed": true
   },
   "outputs": [],
   "source": []
  }
 ],
 "metadata": {
  "anaconda-cloud": {},
  "kernelspec": {
   "display_name": "Python [default]",
   "language": "python",
   "name": "python2"
  },
  "language_info": {
   "codemirror_mode": {
    "name": "ipython",
    "version": 2
   },
   "file_extension": ".py",
   "mimetype": "text/x-python",
   "name": "python",
   "nbconvert_exporter": "python",
   "pygments_lexer": "ipython2",
   "version": "2.7.12"
  }
 },
 "nbformat": 4,
 "nbformat_minor": 2
}
