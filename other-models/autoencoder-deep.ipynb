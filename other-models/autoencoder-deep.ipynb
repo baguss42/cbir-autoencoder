{
 "cells": [
  {
   "cell_type": "code",
   "execution_count": 1,
   "metadata": {
    "collapsed": false
   },
   "outputs": [
    {
     "name": "stderr",
     "output_type": "stream",
     "text": [
      "Using TensorFlow backend.\n"
     ]
    }
   ],
   "source": [
    "from keras.layers import Input, Dense\n",
    "from keras.models import Model, load_model\n",
    "\n",
    "class DeepAutoencoder:\n",
    "    def __init__(self):\n",
    "        self.encoder_model = None\n",
    "        self.model = None\n",
    "        return\n",
    "    \n",
    "    def build(self, input_dim, encoding_dim):\n",
    "        input_layer = Input(shape=(input_dim,))\n",
    "        \n",
    "        hidden_one = Dense(encoding_dim*4, activation='relu') (input_layer)\n",
    "        hidden_two = Dense(encoding_dim*2, activation='relu') (hidden_one)\n",
    "        encoder_output = Dense(encoding_dim, activation='relu') (hidden_two)\n",
    "        self.encoder_model = Model(input_layer, encoder_output)\n",
    "        \n",
    "        hidden_three = Dense(encoding_dim*2, activation='relu') (encoder_output)\n",
    "        hidden_four = Dense(encoding_dim*4, activation='relu') (hidden_three)\n",
    "        decoder_output = Dense(input_dim, activation='sigmoid') (hidden_four)\n",
    "        self.model = Model(input_layer, decoder_output)\n",
    "        \n",
    "        self.model.compile(optimizer='adadelta', loss='binary_crossentropy')\n",
    "        return\n",
    "    \n",
    "    def load(self, model_file, encoder_model_file):\n",
    "        self.encoder_model = load_model(encoder_model_file)\n",
    "        self.model = load_model(model_file)\n",
    "        return\n",
    "    \n",
    "    def train(self, train_input, train_output,\n",
    "             val_input, val_output,\n",
    "             epochs=50,\n",
    "             batch_size=256,\n",
    "             shuffle=True):\n",
    "        self.model.fit(train_input, train_output,\n",
    "                      epochs=epochs, batch_size=batch_size,\n",
    "                      shuffle=shuffle,\n",
    "                      validation_data=(val_input, val_output))\n",
    "        return\n",
    "    \n",
    "    def encoder_predict(self, test_input):\n",
    "        return self.encoder_model.predict(test_input)\n",
    "    \n",
    "    def predict(self, test_input):\n",
    "        return self.model.predict(test_input)\n",
    "    \n",
    "    def save(self, model_file, encoder_model_file):\n",
    "        self.model.save(model_file)\n",
    "        self.encoder_model.save(encoder_model_file)\n",
    "        return"
   ]
  },
  {
   "cell_type": "code",
   "execution_count": 2,
   "metadata": {
    "collapsed": true
   },
   "outputs": [],
   "source": [
    "from keras.datasets import mnist\n",
    "import numpy as np\n",
    "\n",
    "(x_train, _), (x_test, _) = mnist.load_data()"
   ]
  },
  {
   "cell_type": "code",
   "execution_count": 3,
   "metadata": {
    "collapsed": false
   },
   "outputs": [
    {
     "name": "stdout",
     "output_type": "stream",
     "text": [
      "(60000, 784)\n",
      "(10000, 784)\n"
     ]
    }
   ],
   "source": [
    "x_train = x_train.astype('float32') / 255\n",
    "x_test = x_test.astype('float32') / 255\n",
    "\n",
    "x_train = x_train.reshape((len(x_train), np.prod(x_train.shape[1:])))\n",
    "x_test = x_test.reshape((len(x_test), np.prod(x_test.shape[1:])))\n",
    "\n",
    "print x_train.shape\n",
    "print x_test.shape"
   ]
  },
  {
   "cell_type": "code",
   "execution_count": 4,
   "metadata": {
    "collapsed": true
   },
   "outputs": [],
   "source": [
    "autoencoder = DeepAutoencoder()\n",
    "autoencoder.build(784, 32)"
   ]
  },
  {
   "cell_type": "code",
   "execution_count": 5,
   "metadata": {
    "collapsed": false
   },
   "outputs": [
    {
     "name": "stdout",
     "output_type": "stream",
     "text": [
      "Train on 60000 samples, validate on 10000 samples\n",
      "Epoch 1/50\n",
      "60000/60000 [==============================] - 10s - loss: 0.3495 - val_loss: 0.2647\n",
      "Epoch 2/50\n",
      "60000/60000 [==============================] - 2s - loss: 0.2588 - val_loss: 0.2511\n",
      "Epoch 3/50\n",
      "60000/60000 [==============================] - 2s - loss: 0.2397 - val_loss: 0.2276\n",
      "Epoch 4/50\n",
      "60000/60000 [==============================] - 2s - loss: 0.2191 - val_loss: 0.2102\n",
      "Epoch 5/50\n",
      "60000/60000 [==============================] - 2s - loss: 0.2056 - val_loss: 0.1994\n",
      "Epoch 6/50\n",
      "60000/60000 [==============================] - 2s - loss: 0.1953 - val_loss: 0.1879\n",
      "Epoch 7/50\n",
      "60000/60000 [==============================] - 2s - loss: 0.1855 - val_loss: 0.1800\n",
      "Epoch 8/50\n",
      "60000/60000 [==============================] - 2s - loss: 0.1786 - val_loss: 0.1745\n",
      "Epoch 9/50\n",
      "60000/60000 [==============================] - 2s - loss: 0.1731 - val_loss: 0.1704\n",
      "Epoch 10/50\n",
      "60000/60000 [==============================] - 2s - loss: 0.1682 - val_loss: 0.1661\n",
      "Epoch 11/50\n",
      "60000/60000 [==============================] - 2s - loss: 0.1638 - val_loss: 0.1619\n",
      "Epoch 12/50\n",
      "60000/60000 [==============================] - 2s - loss: 0.1595 - val_loss: 0.1552\n",
      "Epoch 13/50\n",
      "60000/60000 [==============================] - 3s - loss: 0.1555 - val_loss: 0.1543\n",
      "Epoch 14/50\n",
      "60000/60000 [==============================] - 2s - loss: 0.1523 - val_loss: 0.1489\n",
      "Epoch 15/50\n",
      "60000/60000 [==============================] - 3s - loss: 0.1496 - val_loss: 0.1464\n",
      "Epoch 16/50\n",
      "60000/60000 [==============================] - 2s - loss: 0.1469 - val_loss: 0.1435\n",
      "Epoch 17/50\n",
      "60000/60000 [==============================] - 2s - loss: 0.1444 - val_loss: 0.1414\n",
      "Epoch 18/50\n",
      "60000/60000 [==============================] - 2s - loss: 0.1422 - val_loss: 0.1393\n",
      "Epoch 19/50\n",
      "60000/60000 [==============================] - 2s - loss: 0.1404 - val_loss: 0.1378\n",
      "Epoch 20/50\n",
      "60000/60000 [==============================] - 2s - loss: 0.1387 - val_loss: 0.1354\n",
      "Epoch 21/50\n",
      "60000/60000 [==============================] - 3s - loss: 0.1374 - val_loss: 0.1349\n",
      "Epoch 22/50\n",
      "60000/60000 [==============================] - 2s - loss: 0.1358 - val_loss: 0.1335\n",
      "Epoch 23/50\n",
      "60000/60000 [==============================] - 2s - loss: 0.1345 - val_loss: 0.1320\n",
      "Epoch 24/50\n",
      "60000/60000 [==============================] - 2s - loss: 0.1331 - val_loss: 0.1310\n",
      "Epoch 25/50\n",
      "60000/60000 [==============================] - 2s - loss: 0.1318 - val_loss: 0.1295\n",
      "Epoch 26/50\n",
      "60000/60000 [==============================] - 3s - loss: 0.1305 - val_loss: 0.1282\n",
      "Epoch 27/50\n",
      "60000/60000 [==============================] - 2s - loss: 0.1293 - val_loss: 0.1280\n",
      "Epoch 28/50\n",
      "60000/60000 [==============================] - 2s - loss: 0.1282 - val_loss: 0.1254\n",
      "Epoch 29/50\n",
      "60000/60000 [==============================] - 2s - loss: 0.1272 - val_loss: 0.1246\n",
      "Epoch 30/50\n",
      "60000/60000 [==============================] - 2s - loss: 0.1262 - val_loss: 0.1241\n",
      "Epoch 31/50\n",
      "60000/60000 [==============================] - 2s - loss: 0.1253 - val_loss: 0.1239\n",
      "Epoch 32/50\n",
      "60000/60000 [==============================] - 3s - loss: 0.1243 - val_loss: 0.1219\n",
      "Epoch 33/50\n",
      "60000/60000 [==============================] - 3s - loss: 0.1236 - val_loss: 0.1229\n",
      "Epoch 34/50\n",
      "60000/60000 [==============================] - 3s - loss: 0.1227 - val_loss: 0.1209\n",
      "Epoch 35/50\n",
      "60000/60000 [==============================] - 2s - loss: 0.1219 - val_loss: 0.1216\n",
      "Epoch 36/50\n",
      "60000/60000 [==============================] - 3s - loss: 0.1211 - val_loss: 0.1194\n",
      "Epoch 37/50\n",
      "60000/60000 [==============================] - 3s - loss: 0.1203 - val_loss: 0.1182\n",
      "Epoch 38/50\n",
      "60000/60000 [==============================] - 3s - loss: 0.1196 - val_loss: 0.1177\n",
      "Epoch 39/50\n",
      "60000/60000 [==============================] - 3s - loss: 0.1190 - val_loss: 0.1191\n",
      "Epoch 40/50\n",
      "60000/60000 [==============================] - 3s - loss: 0.1183 - val_loss: 0.1171\n",
      "Epoch 41/50\n",
      "60000/60000 [==============================] - 3s - loss: 0.1178 - val_loss: 0.1156\n",
      "Epoch 42/50\n",
      "60000/60000 [==============================] - 2s - loss: 0.1171 - val_loss: 0.1152\n",
      "Epoch 43/50\n",
      "60000/60000 [==============================] - 3s - loss: 0.1166 - val_loss: 0.1168\n",
      "Epoch 44/50\n",
      "60000/60000 [==============================] - 2s - loss: 0.1160 - val_loss: 0.1141\n",
      "Epoch 45/50\n",
      "60000/60000 [==============================] - 2s - loss: 0.1155 - val_loss: 0.1149\n",
      "Epoch 46/50\n",
      "60000/60000 [==============================] - 2s - loss: 0.1150 - val_loss: 0.1137\n",
      "Epoch 47/50\n",
      "60000/60000 [==============================] - 2s - loss: 0.1143 - val_loss: 0.1124\n",
      "Epoch 48/50\n",
      "60000/60000 [==============================] - 2s - loss: 0.1140 - val_loss: 0.1133\n",
      "Epoch 49/50\n",
      "60000/60000 [==============================] - 2s - loss: 0.1135 - val_loss: 0.1131\n",
      "Epoch 50/50\n",
      "60000/60000 [==============================] - 3s - loss: 0.1131 - val_loss: 0.1127\n"
     ]
    }
   ],
   "source": [
    "autoencoder.train(x_train, x_train, x_test, x_test,\n",
    "                 epochs=50,\n",
    "                 batch_size=256,\n",
    "                 shuffle=True)"
   ]
  },
  {
   "cell_type": "code",
   "execution_count": 6,
   "metadata": {
    "collapsed": true
   },
   "outputs": [],
   "source": [
    "pred_train = autoencoder.predict(x_test)"
   ]
  },
  {
   "cell_type": "code",
   "execution_count": 7,
   "metadata": {
    "collapsed": false
   },
   "outputs": [
    {
     "data": {
      "image/png": "[encoded data removed]",
      "text/plain": [
       "<matplotlib.figure.Figure at 0x7ff1c9772c10>"
      ]
     },
     "metadata": {},
     "output_type": "display_data"
    }
   ],
   "source": [
    "import matplotlib.pyplot as plt\n",
    "\n",
    "plt.figure(figsize=(10,4))\n",
    "for i in range(5):\n",
    "    ax = plt.subplot(2, 5, i+1)\n",
    "    plt.imshow(x_test[i].reshape(28,28))\n",
    "    plt.gray()\n",
    "    ax.get_xaxis().set_visible(False)\n",
    "    ax.get_yaxis().set_visible(False)\n",
    "    \n",
    "    ax = plt.subplot(2, 5, i+1+5)\n",
    "    plt.imshow(pred_train[i].reshape(28,28))\n",
    "    plt.gray()\n",
    "    ax.get_xaxis().set_visible(False)\n",
    "    ax.get_yaxis().set_visible(False)\n",
    "\n",
    "plt.show()"
   ]
  },
  {
   "cell_type": "code",
   "execution_count": null,
   "metadata": {
    "collapsed": true
   },
   "outputs": [],
   "source": []
  }
 ],
 "metadata": {
  "anaconda-cloud": {},
  "kernelspec": {
   "display_name": "Python [default]",
   "language": "python",
   "name": "python2"
  },
  "language_info": {
   "codemirror_mode": {
    "name": "ipython",
    "version": 2
   },
   "file_extension": ".py",
   "mimetype": "text/x-python",
   "name": "python",
   "nbconvert_exporter": "python",
   "pygments_lexer": "ipython2",
   "version": "2.7.12"
  }
 },
 "nbformat": 4,
 "nbformat_minor": 2
}
